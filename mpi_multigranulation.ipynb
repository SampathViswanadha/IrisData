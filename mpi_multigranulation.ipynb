{
  "nbformat": 4,
  "nbformat_minor": 0,
  "metadata": {
    "colab": {
      "name": "mpi_multigranulation.ipynb",
      "provenance": [],
      "collapsed_sections": [],
      "authorship_tag": "ABX9TyOJYyww4sVjoHGqYnwRrHAx",
      "include_colab_link": true
    },
    "kernelspec": {
      "name": "python3",
      "display_name": "Python 3"
    },
    "accelerator": "GPU"
  },
  "cells": [
    {
      "cell_type": "markdown",
      "metadata": {
        "id": "view-in-github",
        "colab_type": "text"
      },
      "source": [
        "<a href=\"https://colab.research.google.com/github/SampathViswanadha/IrisData/blob/master/mpi_multigranulation.ipynb\" target=\"_parent\"><img src=\"https://colab.research.google.com/assets/colab-badge.svg\" alt=\"Open In Colab\"/></a>"
      ]
    },
    {
      "cell_type": "code",
      "metadata": {
        "id": "o4xvOPe_MD4H",
        "colab_type": "code",
        "colab": {
          "base_uri": "https://localhost:8080/",
          "height": 53
        },
        "outputId": "5aaa36cd-a434-4929-cad9-8703681ebc3d"
      },
      "source": [
        "#!pip3 install mpi4py\n",
        "#!pip3 install bigmpi4py\n",
        "%cd gdrive/My\\ Drive/Colab\\ Notebooks/"
      ],
      "execution_count": 23,
      "outputs": [
        {
          "output_type": "stream",
          "text": [
            "[Errno 2] No such file or directory: 'gdrive/My Drive/Colab Notebooks/'\n",
            "/content\n"
          ],
          "name": "stdout"
        }
      ]
    },
    {
      "cell_type": "code",
      "metadata": {
        "id": "4OgE0ZgvMK-E",
        "colab_type": "code",
        "colab": {}
      },
      "source": [
        "import bigmpi4py as BM\n",
        "from mpi4py import MPI\n",
        "import pandas as pd\n",
        "from sklearn.utils import shuffle\n",
        "import numpy as np\n",
        "import random\n",
        "import math\n"
      ],
      "execution_count": 0,
      "outputs": []
    },
    {
      "cell_type": "code",
      "metadata": {
        "id": "Q_RyTrrCN5ch",
        "colab_type": "code",
        "colab": {}
      },
      "source": [
        "comm = MPI.COMM_WORLD\n",
        "size = comm.Get_size()\n",
        "rank = comm.Get_rank()"
      ],
      "execution_count": 0,
      "outputs": []
    },
    {
      "cell_type": "code",
      "metadata": {
        "id": "EOhDO2zjOSIQ",
        "colab_type": "code",
        "colab": {}
      },
      "source": [
        "global data_per_rank\n",
        "global rows\n",
        "global intersect_reduct\n",
        "global other_reduct\n",
        "global reduct\n",
        "global broadcast_list"
      ],
      "execution_count": 0,
      "outputs": []
    },
    {
      "cell_type": "code",
      "metadata": {
        "id": "0qPzqyjPObws",
        "colab_type": "code",
        "colab": {}
      },
      "source": [
        "def decision_equivalence_classes(scattered_dataframe):\n",
        "    dec_eq_classes = []\n",
        "    col_names = scattered_dataframe.columns.values.tolist()\n",
        "    dec_attr = col_names[-1]\n",
        "    for dec_value in (pd.unique(scattered_dataframe[dec_attr])):\n",
        "        dec_eq_classes.append(scattered_dataframe.index[scattered_dataframe[dec_attr] == dec_value].tolist())\n",
        "\n",
        "    return dec_eq_classes"
      ],
      "execution_count": 0,
      "outputs": []
    },
    {
      "cell_type": "code",
      "metadata": {
        "id": "gKUEr-xxOi1F",
        "colab_type": "code",
        "colab": {}
      },
      "source": [
        "def indiscernibility(attr, table):\n",
        "\n",
        "\tu_ind = {}\t#an empty dictionary to store the elements of the indiscernibility relation (U/IND({set of attributes}))\n",
        "\tattr_values = []\t#an empty list to tore the values of the attributes\n",
        "\n",
        "\tfor i in (table.index):\n",
        "\n",
        "\t\tattr_values = []\n",
        "\t\tfor j in (attr):\n",
        "\n",
        "\t\t\tattr_values.append(table.loc[i, j])\t#find the value of the table at the corresponding row and the desired attribute and add it to the attr_values list\n",
        "\n",
        "\t\t#convert the list to a string and check if it is already a key value in the dictionary\n",
        "\t\tkey = ''.join(str(k) for k in (attr_values))\n",
        "\n",
        "\t\tif(key in u_ind):\t#if the key already exists in the dictionary\n",
        "\t\t\tu_ind[key].add(i)\n",
        "\n",
        "\t\telse:\t#if the key does not exist in the dictionary yet\n",
        "\t\t\tu_ind[key] = set()\n",
        "\t\t\tu_ind[key].add(i)\n",
        "\n",
        "\treturn list(u_ind.values())\n",
        "\n",
        "\n",
        "\n",
        "def lower_approximation(R, X):\t#We have to try to describe the knowledge in X with respect to the knowledge in R; both are LISTS OS SETS [{},{}]\n",
        "\n",
        "\tl_approx = set()\t#change to [] if you want the result to be a list of sets\n",
        "\n",
        "\t#print(\"X : \" + str(len(X)))\n",
        "\t#print(\"R : \" + str(len(R)))\n",
        "\n",
        "\tfor i in range(len(X)):\n",
        "\t\tfor j in range(len(R)):\n",
        "\n",
        "\t\t\tif(R[j].issubset(X[i])):\n",
        "\t\t\t\tl_approx.update(R[j])\t#change to .append() if you want the result to be a list of sets\n",
        "\n",
        "\treturn l_approx\n",
        "\n",
        "\n",
        "\n",
        "def gamma_measure(describing_attributes, attributes_to_be_described, U, table):\t#a functuon that takes attributes/features R, X, and the universe of objects\n",
        "\n",
        "\tf_ind = indiscernibility(describing_attributes, table)\n",
        "\tt_ind = indiscernibility(attributes_to_be_described, table)\n",
        "\n",
        "\tf_lapprox = lower_approximation(f_ind, t_ind)\n",
        "\n",
        "\treturn len(f_lapprox)/len(U)\n",
        "\n",
        "\t#return mod_l_approx(l_approx)/len(U)\n",
        "\n",
        "\n",
        "def quick_reduct(C, D, table, initial):\t#C is the set of all conditional attributes; D is the set of decision attributes\n",
        "\n",
        "\treduct = set(initial)\n",
        "\n",
        "\tgamma_C = gamma_measure(C, D, table.index, table)\n",
        "\t#print(\"The gamma measure of the Conditional attributes is :\", gamma_C)\n",
        "\tgamma_R = 0\n",
        "\n",
        "\twhile(gamma_R < gamma_C):\n",
        "\n",
        "\t\tT = reduct\n",
        "\n",
        "\t\tfor x in (set(C) - reduct):\n",
        "\n",
        "\t\t\tfeature = set()\t#creating a new set to hold the currently selected feature\n",
        "\t\t\tfeature.add(x)\n",
        "\n",
        "\t\t\t#print(feature)\n",
        "\n",
        "\t\t\tnew_red = reduct.union(feature)\t#directly unioning x separates the alphabets of the feature...\n",
        "\n",
        "\t\t\tgamma_new_red = gamma_measure(new_red, D, table.index, table)\n",
        "\t\t\tgamma_T = gamma_measure(T, D, table.index, table)\n",
        "\n",
        "\t\t\tif(gamma_new_red > gamma_T):\n",
        "\n",
        "\t\t\t\tT = reduct.union(feature)\n",
        "\t\t\t\t#print(\"added\")\n",
        "\n",
        "\t\treduct = T\n",
        "\n",
        "\t\t#finding the new gamma measure of the reduct\n",
        "\n",
        "\t\tgamma_R = gamma_measure(reduct, D, table.index, table)\n",
        "\t\t#print(\"The gamma of the reduct is:\", gamma_R)\n",
        "\n",
        "\treturn reduct"
      ],
      "execution_count": 0,
      "outputs": []
    },
    {
      "cell_type": "code",
      "metadata": {
        "id": "cTrb8_30StMC",
        "colab_type": "code",
        "colab": {
          "resources": {
            "http://localhost:8080/nbextensions/google.colab/files.js": {
              "data": "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",
              "ok": true,
              "headers": [
                [
                  "content-type",
                  "application/javascript"
                ]
              ],
              "status": 200,
              "status_text": ""
            }
          },
          "base_uri": "https://localhost:8080/",
          "height": 93
        },
        "outputId": "0d8b3796-400b-4d24-9bb8-960b40689ab1"
      },
      "source": [
        "from google.colab import files\n",
        "uploaded = files.upload()\n",
        "\n",
        "for fn in uploaded.keys():\n",
        "  print('User uploaded file \"{name}\" with length {length} bytes'.format(\n",
        "      name=fn, length=len(uploaded[fn])))"
      ],
      "execution_count": 1,
      "outputs": [
        {
          "output_type": "display_data",
          "data": {
            "text/html": [
              "\n",
              "     <input type=\"file\" id=\"files-5e9a0e16-e8a0-42db-ac82-36c145bb1140\" name=\"files[]\" multiple disabled />\n",
              "     <output id=\"result-5e9a0e16-e8a0-42db-ac82-36c145bb1140\">\n",
              "      Upload widget is only available when the cell has been executed in the\n",
              "      current browser session. Please rerun this cell to enable.\n",
              "      </output>\n",
              "      <script src=\"/nbextensions/google.colab/files.js\"></script> "
            ],
            "text/plain": [
              "<IPython.core.display.HTML object>"
            ]
          },
          "metadata": {
            "tags": []
          }
        },
        {
          "output_type": "stream",
          "text": [
            "Saving mpi_multi_granulation.py to mpi_multi_granulation (5).py\n",
            "User uploaded file \"mpi_multi_granulation.py\" with length 8764 bytes\n"
          ],
          "name": "stdout"
        }
      ]
    },
    {
      "cell_type": "code",
      "metadata": {
        "id": "s2rJ_kkAOsE0",
        "colab_type": "code",
        "colab": {}
      },
      "source": [
        "if __name__ == \"__main__\":\n",
        "\n",
        "    global a \n",
        "    \n",
        "    #if rank == 0:\n",
        "    data = np.array([['case','Temp'     ,'Headache' ,'Weak' ,'Nausea' ,'Flu'],\n",
        "                     [  1    ,'veryhigh'  ,'yes'     ,'yes'  ,'no'     ,'yes'],\n",
        "                     [  2    ,'high'      ,'yes'     ,'no'   ,'yes'    ,'no'],\n",
        "                     [  3    ,'normal'    ,'no'      ,'no'   ,'no'     ,'no'],\n",
        "                     [  4    ,'normal'    ,'yes'     ,'yes'  ,'yes'    ,'yes'],\n",
        "                     [  5    ,'high'      ,'no'      ,'yes'  ,'no'     ,'yes'],\n",
        "                     [  6    ,'high'      ,'no'      ,'no'   ,'no'     ,'no'],\n",
        "                     [  7    ,'normal'    ,'no'      ,'yes'  ,'no'     ,'yes'],\n",
        "                     [  8    ,'veryhigh'  ,'no'      ,'yes'  ,'no'     ,'no']])\n",
        "    '''a = pd.DataFrame(data=data[1:,0:],\n",
        "                     index=data[1:,0],\n",
        "                     columns=data[0,0:])'''\n",
        "    \n",
        "    #a = pd.read_csv(\"adult+stretch.data\")\n",
        "    a = pd.read_csv('agaricus-lepiota.csv')\n",
        "    #a = pd.read_csv('connect-4.data')\n",
        "    #a = pd.read_csv('balance-scale.csv')\n",
        "    #a = pd.read_csv('led-creator.data')\n",
        "    #a = pd.read_csv('breast-cancer.csv')\n",
        "\n",
        "    cols = a.columns.tolist()\n",
        "    '''if cols[0] == 'dec_variable':\n",
        "        a = a.drop(columns = ['dec_variable']).assign(dec_variable = a['dec_variable'])'''\n",
        "    #a = a.drop(columns = ['dec_variable']).assign(dec_variable = a['dec_variable'])\n",
        "    '''a = pd.read_csv(\"connect-4.data\")\n",
        "    a['index'] = a.index\n",
        "    cols = a.columns.tolist()\n",
        "    cols = cols[-1:] + cols[:-1]\n",
        "    a = a[cols]'''\n"
      ],
      "execution_count": 0,
      "outputs": []
    },
    {
      "cell_type": "code",
      "metadata": {
        "id": "NlnjLa0UUBuX",
        "colab_type": "code",
        "colab": {
          "base_uri": "https://localhost:8080/",
          "height": 287
        },
        "outputId": "20e51fd5-3d79-45b1-8d59-1bc71a0a6dc2"
      },
      "source": [
        "shuffled_df = shuffle(a)\n",
        "\n",
        "if rank == 0:\n",
        "  print('Shuffled dataframe: \\n%s' % (shuffled_df))"
      ],
      "execution_count": 17,
      "outputs": [
        {
          "output_type": "stream",
          "text": [
            "Shuffled dataframe: \n",
            "     cap-shape cap-surface cap-color  ... population habitat dec_variable\n",
            "6159         x           s         e  ...          v       d            p\n",
            "178          x           y         y  ...          n       m            e\n",
            "7086         b           f         g  ...          s       g            e\n",
            "7879         k           s         n  ...          v       d            p\n",
            "402          x           y         n  ...          v       u            p\n",
            "...        ...         ...       ...  ...        ...     ...          ...\n",
            "294          x           s         w  ...          s       m            e\n",
            "1586         x           f         n  ...          v       d            e\n",
            "4148         f           y         g  ...          v       d            p\n",
            "1947         x           y         g  ...          y       d            e\n",
            "2847         x           f         n  ...          y       d            e\n",
            "\n",
            "[8124 rows x 23 columns]\n"
          ],
          "name": "stdout"
        }
      ]
    },
    {
      "cell_type": "code",
      "metadata": {
        "id": "wTSwAbWdUW8I",
        "colab_type": "code",
        "colab": {
          "base_uri": "https://localhost:8080/",
          "height": 55
        },
        "outputId": "a88557e1-0a09-4b1a-a249-d96d8b74058d"
      },
      "source": [
        "    dec_eq_classes = decision_equivalence_classes(shuffled_df)\n",
        "\n",
        "    dummy = []\n",
        "    original_reduct = quick_reduct(a.columns[1:-1], [a.columns[-1]], a, dummy)\n",
        "        \n",
        "\n",
        "    if rank == 0:\n",
        "      print('The original reduct is: ', original_reduct)\n",
        "\n",
        "    reduct = []\n",
        "    broadcast_list = []\n",
        "    rows = shuffled_df.index.values.tolist()"
      ],
      "execution_count": 18,
      "outputs": [
        {
          "output_type": "stream",
          "text": [
            "The original reduct is:  {'spore-print-color', 'stalk-surface-above-ring', 'odor', 'gill-size', 'stalk-color-below-ring'}\n"
          ],
          "name": "stdout"
        }
      ]
    },
    {
      "cell_type": "code",
      "metadata": {
        "id": "aqnZ5gy3VajB",
        "colab_type": "code",
        "colab": {}
      },
      "source": [
        "def sliceit(lis, chunk_num):\n",
        "  start = 0\n",
        "  for i in range(chunk_num):\n",
        "    stop = start + len(lis[i::chunk_num])\n",
        "    yield lis[start:stop]\n",
        "    start = stop\n",
        "  \n",
        "chunk = size + 1\n",
        "sam = sliceit(rows, chunk)\n",
        "sam_list = []\n",
        "for x in sam:\n",
        "  sam_list.append(x)\n",
        "\n",
        "for l in range(len(sam_list) - 1):\n",
        "  sam_list[l].extend(sam_list[-1])\n",
        "\n",
        "sam_list.remove(sam_list[-1])"
      ],
      "execution_count": 0,
      "outputs": []
    },
    {
      "cell_type": "code",
      "metadata": {
        "id": "bhyeiSxBWrtr",
        "colab_type": "code",
        "colab": {
          "base_uri": "https://localhost:8080/",
          "height": 91
        },
        "outputId": "e5bf9811-36a4-48f2-af3b-19ab41bfb78a"
      },
      "source": [
        "scatter_list = BM.scatter(sam_list, comm)\n",
        "print('Rank %s: scattered list \\n%s\\n' % (rank, scatter_list))\n",
        "\n",
        "df_for_each = shuffled_df.loc[scatter_list[0], :]"
      ],
      "execution_count": 20,
      "outputs": [
        {
          "output_type": "stream",
          "text": [
            "Rank 0: scattered list \n",
            "[[6159, 178, 7086, 7879, 402, 7026, 6470, 3583, 5433, 2094, 6031, 596, 4510, 4605, 830, 6910, 5309, 6451, 333, 4028, 5330, 1108, 799, 3550, 2639, 5948, 1696, 6989, 4322, 3311, 4505, 2709, 473, 6030, 567, 5235, 3388, 1459, 7269, 7388, 5873, 3127, 59, 4008, 6491, 4919, 1503, 7383, 6465, 5263, 270, 4497, 241, 7430, 1972, 4010, 792, 4770, 5621, 2667, 3500, 4021, 1277, 4607, 6428, 2819, 1855, 1186, 3579, 7607, 5699, 3609, 3042, 2474, 5960, 4552, 3885, 8013, 5012, 3835, 392, 5414, 7167, 2257, 6787, 6419, 4726, 4430, 7688, 5509, 7328, 6014, 7144, 1523, 5081, 7482, 6570, 3636, 5595, 5034, 4327, 4571, 170, 2186, 3088, 1871, 1075, 4212, 2990, 7478, 4656, 7093, 2336, 3248, 6008, 7081, 1509, 6059, 4979, 3357, 3741, 7238, 6619, 1247, 456, 4124, 114, 1030, 5951, 1388, 3991, 6796, 2075, 180, 3923, 3984, 8114, 276, 757, 4554, 522, 4358, 6347, 1181, 3425, 2160, 2136, 2009, 3886, 3351, 4365, 7581, 5503, 2728, 5026, 3705, 329, 3799, 2598, 1937, 7380, 518, 3744, 4813, 5546, 3280, 77, 887, 1808, 1565, 5905, 7004, 646, 4515, 366, 3722, 3877, 5258, 5891, 551, 7373, 2873, 1212, 1926, 4277, 3641, 4441, 7235, 4942, 4177, 6808, 2346, 6789, 5028, 465, 3567, 7202, 8054, 4983, 2576, 424, 6181, 5648, 1985, 769, 716, 2681, 5082, 46, 6708, 7139, 6599, 2404, 7586, 5400, 5096, 5328, 3857, 6309, 3389, 2699, 86, 7735, 6922, 4846, 4299, 335, 1240, 1086, 7626, 5191, 1995, 8032, 4485, 3123, 6661, 2262, 5834, 6949, 1900, 4207, 3278, 6909, 6525, 3943, 6300, 4706, 1239, 1701, 977, 2635, 2451, 7173, 6276, 383, 3299, 5109, 4508, 1934, 6642, 2875, 5850, 4389, 4471, 5647, 6280, 4579, 4789, 6100, 4296, 40, 7900, 6103, 2005, 4427, 1134, 4050, 717, 6720, 3175, 880, 4641, 3763, 6094, 8026, 5705, 2541, 4494, 1150, 2657, 1341, 4713, 1090, 4453, 6547, 7788, 4270, 4728, 5750, 696, 5418, 5240, 2490, 6391, 853, 3702, 3465, 6421, 1264, 7714, 6625, 8056, 4735, 5238, 231, 4615, 5060, 4040, 3493, 5294, 6460, 8110, 621, 5576, 3542, 5671, 3520, 2938, 2343, 1447, 2335, 2023, 4625, 4832, 7374, 1323, 2199, 4957, 2294, 2831, 7397, 4875, 4325, 4911, 2248, 493, 5290, 5910, 3953, 2964, 7385, 3406, 878, 3382, 4514, 4055, 4937, 4688, 405, 6627, 7619, 6712, 3490, 5646, 7040, 3033, 3502, 4903, 915, 7343, 1173, 3808, 6407, 3817, 2150, 1402, 7985, 6529, 4476, 6246, 1787, 4302, 1708, 1198, 6151, 3489, 4783, 2041, 1055, 3628, 338, 1719, 2740, 4855, 4072, 7330, 2517, 5611, 7360, 7342, 7059, 1274, 5255, 6368, 5340, 1795, 5797, 2540, 215, 7846, 3678, 1984, 5987, 4436, 6686, 7079, 2807, 1393, 4854, 6092, 146, 876, 5140, 2632, 5749, 4255, 1390, 1165, 4404, 7131, 3258, 4338, 851, 8014, 3957, 5310, 130, 2702, 1461, 927, 417, 3352, 6524, 4082, 4748, 1127, 447, 247, 8108, 2475, 1942, 6936, 3391, 5085, 6040, 5992, 5253, 4521, 2845, 5345, 60, 3994, 557, 2256, 2481, 3374, 7221, 7002, 3273, 2745, 8071, 4058, 1803, 1726, 3402, 1072, 858, 7861, 5518, 3775, 1645, 1234, 2645, 4885, 2310, 5618, 7920, 4999, 6125, 6289, 4856, 6301, 1992, 7408, 4860, 4064, 1499, 7042, 5208, 7816, 2566, 4997, 758, 6218, 7642, 7489, 2364, 328, 2309, 6628, 1425, 3445, 6351, 560, 6017, 37, 7281, 3004, 5268, 7204, 4754, 1882, 805, 6432, 4405, 3254, 6831, 859, 6263, 311, 527, 1883, 7835, 1352, 6488, 1382, 4316, 1532, 6298, 6005, 191, 5502, 2157, 3008, 1713, 1453, 7937, 1089, 2513, 3841, 4804, 203, 5872, 8066, 622, 3413, 2213, 7865, 1105, 7005, 3250, 5413, 7674, 6192, 7891, 3058, 5252, 6084, 5346, 5733, 6339, 4665, 4002, 3967, 7275, 6269, 4146, 4998, 1117, 6782, 6163, 5259, 6148, 1769, 3269, 3459, 4100, 2692, 812, 4736, 5663, 3077, 2618, 6375, 3966, 4717, 4305, 4257, 6578, 5513, 6793, 5331, 6044, 7450, 4323, 1109, 7210, 5055, 5990, 4486, 6035, 827, 2743, 3983, 4367, 3692, 2395, 7493, 1378, 3430, 6492, 4227, 1415, 6575, 770, 1143, 7258, 6730, 5139, 1421, 32, 6343, 4539, 7191, 3309, 8048, 7922, 4974, 1335, 1707, 3072, 4586, 1046, 153, 7528, 3216, 6695, 7715, 6567, 6277, 5410, 1197, 591, 1933, 2577, 88, 2674, 1428, 3348, 1671, 1580, 4684, 3715, 2917, 2170, 5967, 345, 5126, 7802, 5947, 1786, 4969, 3519, 1660, 7300, 4383, 3207, 2987, 4596, 6329, 2068, 7940, 1628, 1157, 7746, 978, 1363, 767, 2334, 41, 8098, 5473, 8093, 6286, 4132, 6196, 1741, 6313, 3838, 7505, 4982, 1504, 6055, 1099, 7047, 5103, 4136, 3262, 6308, 829, 1961, 5068, 2828, 4975, 127, 5777, 5622, 2536, 4171, 2578, 3686, 2983, 3925, 302, 6168, 193, 3154, 2974, 155, 7156, 165, 5256, 2201, 1128, 5890, 1907, 8, 2518, 5784, 3876, 2227, 96, 1734, 3403, 4560, 1191, 5183, 683, 6735, 667, 1420, 2429, 4105, 2922, 5483, 6983, 2947, 2689, 1355, 401, 1862, 445, 221, 2733, 4926, 292, 3536, 1529, 6062, 3074, 2274, 3772, 2837, 6982, 1525, 3999, 1354, 2997, 4844, 1519, 5711, 5454, 5799, 5015, 640, 809, 50, 3750, 3201, 7189, 4773, 1137, 7627, 6635, 4125, 3115, 713, 7034, 6336, 5973, 1949, 3169, 382, 332, 7295, 7154, 2744, 1737, 7441, 4076, 2843, 1384, 2905, 7483, 6116, 984, 2768, 2861, 1543, 3343, 4198, 3271, 3143, 4451, 2519, 2766, 2909, 403, 8106, 3017, 6714, 6105, 3571, 367, 7815, 671, 4499, 4071, 5004, 5854, 108, 7599, 6606, 7142, 7055, 577, 3648, 5042, 8099, 3172, 5996, 7088, 3275, 4673, 485, 3331, 1624, 3890, 5436, 2007, 3623, 6819, 148, 6332, 2303, 7926, 1754, 5388, 5449, 2430, 2493, 8041, 3338, 5888, 6475, 1796, 2891, 6441, 3264, 695, 6003, 5578, 5257, 6805, 1344, 8047, 4555, 7860, 7190, 5350, 6954, 4995, 3166, 7962, 314, 5091, 3996, 1743, 3080, 4640, 3916, 6238, 3666, 5329, 316, 4538, 7106, 1911, 347, 3873, 807, 7767, 7887, 2716, 1448, 6924, 874, 1540, 7321, 2085, 572, 3335, 2, 414, 1124, 3675, 771, 7427, 6908, 3147, 865, 3986, 517, 7702, 1640, 7001, 194, 1185, 244, 3570, 5349, 6295, 1103, 7297, 5528, 7919, 7809, 7237, 4520, 5806, 1135, 8028, 4800, 7930, 7986, 6311, 6542, 7324, 2282, 5170, 3380, 3184, 6650, 2527, 885, 6369, 3778, 6067, 1880, 5949, 4169, 7443, 6848, 7669, 6658, 1899, 4953, 7292, 3768, 4205, 1749, 592, 3824, 1024, 4310, 4458, 4603, 1348, 5851, 3353, 4710, 4419, 6376, 8015, 2081, 8103, 7128, 44, 4887, 4972, 729, 4719, 1359, 4716, 55, 7183, 6223, 4572, 3668, 8078, 7998, 7869, 6752, 5008, 6482, 4106, 3104, 6294, 5230, 2477, 4802, 6890, 7186, 5185, 113, 1954, 7155, 7826, 664, 4786, 5921, 3537, 609, 5867, 5956, 491, 1276, 6759, 983, 4415, 1304, 5431, 7277, 1599, 4235, 1929, 5894, 2694, 2164, 6476, 5732, 5432, 7697, 2239, 138, 190, 626, 3301, 1005, 6225, 6541, 2060, 2921, 6109, 81, 4747, 5630, 3551, 5584, 8043, 1612, 7613, 6019, 5550, 4512, 3249, 7090, 3691, 1231, 4791, 734, 6334, 962, 4620, 5842, 7488, 4266, 5459, 1362, 6130, 4962, 808, 7129, 2624, 6422, 3281, 5599, 6150, 5270, 4030, 461, 7981, 4980, 1623, 3450, 5924, 2299, 362, 4103, 278, 3596, 4498, 3553, 3779, 6318, 1996, 7286, 7551, 444, 6586, 2061, 7006, 1142, 2906, 5303, 7468, 7739, 6366, 6927, 6315, 4470, 5991, 5651, 6127, 2279, 5511, 7099, 1658, 994, 5525, 6175, 488, 4344, 7366, 3145, 400, 6214, 4822, 1927, 3221, 6353, 5690, 3762, 6727, 6704, 3243, 4898, 6780, 2014, 6415, 1334, 1144, 1175, 6078, 3839, 3940, 2574, 8025, 6894, 3282, 4871, 5736, 2486, 2575, 2285, 6576, 568, 7941, 5174, 6405, 1868, 185, 7646, 4738, 3217, 2222, 7893, 4798, 3091, 2019, 5151, 7253, 894, 6484, 6164, 240, 5748, 7337, 3137, 7805, 5260, 2418, 3225, 1723, 4653, 4454, 1849, 5580, 6042, 4216, 3259, 1983, 5393, 3697, 4335, 765, 2871, 5953, 766, 7402, 4012, 4202, 3626, 6265, 4448, 4061, 288, 91, 4742, 3816, 5756, 6976, 4304, 5679, 7827, 2980, 2528, 4784, 1120, 6863, 5878, 7667, 7179, 4978, 412, 4333, 3024, 4724, 4718, 3955, 5446, 2895, 700, 4113, 2775, 3407, 8075, 2968, 5274, 6611, 1936, 4318, 600, 1496, 3187, 5650, 51, 1549, 816, 5644, 7885, 268, 3481, 4236, 230, 6205, 7748, 7326, 1098, 139, 2502, 2459, 1765, 3658, 6946, 2573, 2854, 3619, 2648, 7894, 7662, 5165, 6775, 2769, 5915, 1693, 1107, 4204, 7101, 5251, 2851, 3092, 2101, 3764, 5124, 450, 2680, 237, 649, 2217, 4000, 906, 7743, 7163, 2051, 5001, 2069, 774, 3616, 821, 1021, 1881, 5195, 1263, 4315, 7544, 440, 2205, 283, 5181, 7918, 1952, 7138, 4391, 5964, 6728, 6648, 5162, 3899, 251, 3681, 6303, 7298, 5774, 877, 2401, 7574, 4988, 2055, 5148, 1652, 4667, 5893, 1553, 467, 7078, 6914, 5557, 2602, 4906, 6457, 2035, 3158, 5305, 7705, 3364, 1802, 5564, 531, 2462, 2532, 2985, 1805, 4826, 6506, 7832, 4464, 2367, 1969, 207, 2133, 7315, 6380, 6843, 4859, 6412, 3565, 5536, 5100, 4328, 1406, 1602, 5122, 5997, 1622, 2174, 93, 7359, 2586, 6993, 7104, 755, 2114, 1567, 3102, 3346, 8097, 1832, 6701, 2383, 2448, 3035, 1114, 1762, 1269, 8051, 5780, 2273, 2456, 558, 7069, 6228, 2827, 1492, 6623, 4883, 7463, 6559, 3135, 1886, 5369, 3421, 410, 6397, 5935, 3506, 4111, 5206, 1898, 4433, 3326, 6931, 5188, 2467, 7087, 4135, 6414, 150, 2365, 5691, 152, 975, 3766, 5547, 5409, 8102, 7268, 4253, 6135, 7584, 7969, 6418, 6865, 2034, 662, 80, 3975, 4290, 2563, 303, 4134, 3037, 6243, 3025, 7245, 2816, 4140, 1182, 3828, 7126, 475, 837, 1452, 7874, 3946, 2756, 82, 7422, 1155, 4112, 5848, 3372, 6446, 4014, 5403, 5694, 3924, 2063, 1027, 1291, 5986, 3603, 4056, 8007, 1923, 2564, 759, 6169, 2971, 6902, 4345, 4051, 647, 7538, 6356, 3113, 6636, 5176, 844, 3944, 4070, 3642, 2631, 6809, 2103, 7994, 7600, 3677, 1585, 2147, 3810, 803, 5596, 4966, 5450, 4528, 1858, 6477, 2236, 3601, 6977, 762, 2720, 4739, 3138, 7486, 1747, 5066, 1568, 6684, 628, 3703, 1205, 5988, 6940, 4429, 5692, 4536, 581, 6268, 1633, 6607, 4413, 947, 6161, 7278, 6450, 8057, 6113, 1634, 1695, 7439, 2927, 4646, 5841, 291, 3920, 4661, 2992, 45, 1535, 6972, 26, 5768, 1573, 7822, 5734, 3934, 5456, 3325, 1833, 7806, 5573, 6483, 2030, 3111, 976, 7520, 6066, 4817, 3222, 371, 4282, 1681, 79, 6970, 2788, 5457, 299, 7766, 72, 262, 3842, 2933, 5916, 7229, 8034, 6767, 3038, 7774, 4917, 4291, 1215, 644, 4468, 564, 4090, 166, 6849, 5478, 5025, 8009, 4007, 3371, 3704, 7424, 4685, 6479, 6485, 979, 6320, 2070, 2691, 6041, 905, 7786, 7849, 7256, 3558, 2312, 6264, 4695, 7247, 5150, 7352, 426, 4346, 3279, 4332, 6837, 6322, 6190, 1042, 1180, 1847, 4199, 1245, 4492, 7910, 5742, 575, 1935, 3356, 5219, 3203, 3085, 3290, 648, 2025, 4857, 5434, 409, 6348, 6362, 3673, 3332, 6511, 7289, 7625, 7813, 103, 4580, 5865, 4529, 5177, 2270, 496, 7199, 7395, 200, 1294, 6891, 3416, 2322, 6290, 715, 6096, 4402, 4139, 3593, 3211, 6497, 6563, 3306, 806, 822, 4075, 2642, 6220, 2711, 7699, 3292, 7531, 3898, 5761, 5440, 482, 7218, 4393, 3915, 5401, 6305, 7083, 5572, 3078, 6526, 101, 2555, 7015, 2454, 2203, 3767, 4629, 6558, 2076, 2416, 5664, 4364, 4488, 653, 7405, 2302, 2352, 6694, 1691, 5293, 2483, 2704, 2683, 5505, 1955, 4541, 6632, 7515, 1494, 370, 7114, 2605, 7543, 7406, 2280, 2293, 3525, 433, 2568, 3059, 7807, 4137, 306, 1811, 4079, 7925, 3412, 6725, 6533, 8058, 7448, 2111, 1920, 5852, 1917, 7693, 1416, 3165, 2542, 589, 7589, 6073, 782, 4518, 5681, 4757, 5558, 6023, 574, 4442, 5428, 726, 4324, 6299, 2206, 6081, 4837, 6995, 2669, 1818, 3400, 6367, 776, 8044, 5470, 4141, 483, 2350, 3947, 6987, 2086, 2237, 2156, 3036, 1104, 1533, 167, 7436, 1087, 20, 3795, 999, 4489, 3031, 3585, 4669, 2392, 394, 385, 6925, 6146, 425, 3624, 7608, 5468, 896, 3016, 3099, 5985, 2584, 6815, 3669, 2378, 6943, 2197, 1386, 6045, 654, 4808, 421, 3210, 5284, 4329, 1015, 3958, 1339, 7595, 7842, 3496, 3173, 1357, 5430, 1732, 5614, 5318, 6883, 2267, 8087, 8033, 674, 4392, 6663, 6328, 4865, 358, 1690, 6939, 1544, 943, 3114, 745, 3865, 5064, 6633, 5254, 8024, 2347, 6054, 4623, 2975, 2393, 5793, 5342, 1222, 7754, 1584, 2755, 2958, 7561, 7872, 7507, 6274, 6653, 460, 6374, 3060, 340, 4636, 5287, 4701, 3862, 7117, 5171, 4960, 566, 3090, 4852, 1053, 5447, 1241, 3618, 3122, 7338, 4530, 4196, 11, 3587, 7819, 2073, 6261, 5327, 3687, 5018, 6786, 7776, 4068, 3755, 753, 3055, 63, 6377, 6207, 754, 3717, 5900, 3140, 7052, 2885, 4059, 3494, 2340, 2695, 3657, 5379, 1888, 6998, 4060, 2411, 6603, 7357, 7166, 2869, 2317, 7512, 7904, 2495, 7111, 5680, 1449, 4229, 1330, 5517, 5002, 748, 6588, 5306, 4085, 5814, 6052, 2180, 7025, 7312, 1376, 544, 2400, 1441, 7429, 5919, 2233, 4664, 5659, 6871, 3107, 1347, 7949, 4350, 3695, 6952, 4300, 1500, 4339, 4807, 4166, 16, 508, 7709, 1834, 1029, 6408, 1648, 955, 7921, 2965, 4063, 2224, 872, 7989, 324, 2434, 6748, 274, 3751, 2402, 2897, 4133, 1822, 5129, 5480, 4501, 4421, 773, 2688, 1903, 7824, 3806, 1866, 2770, 5981, 705, 5166, 4929, 7791, 2091, 6517, 4114, 5275, 6519, 5377, 5097, 4309, 5975, 1009, 4120, 3161, 1257, 4714, 3513, 2840, 5829, 4954, 4273, 4614, 7288, 6640, 5498, 7041, 6724, 2074, 7061, 6645, 6184, 6034, 1793, 1566, 2890, 6250, 1887, 1980, 5875, 8118, 172, 5116, 5365, 5299, 949, 6252, 3868, 137, 4500, 3456, 4031, 1768, 5757, 4631, 7532, 699, 1006, 6472, 5214, 8109, 497, 64, 5458, 633, 5998, 5675, 5835, 6281, 6147, 7747, 660, 540, 7449, 2453, 2581, 7346, 2982, 4635, 3386, 4893, 4163, 6999, 6006, 6965, 7485, 1650, 5554, 5496, 1925, 2867, 3027, 4372, 2325, 7009, 2561, 1243, 4792, 7611, 7510, 6296, 1616, 5497, 8010, 1436, 1564, 4317, 1697, 4264, 4888, 7341, 7011, 739, 1017, 2219, 7384, 4003, 7692, 6174, 7143, 8063, 6429, 5807, 737, 7578, 6992, 746, 1959, 2231, 3437, 3561, 6124, 3022, 2628, 322, 2146, 374, 2644, 7838, 5075, 1228, 3576, 6471, 2612, 5735, 6386, 4922, 3937, 4034, 6346, 4526, 5441, 5657, 6656, 312, 7784, 7056, 3875, 7733, 1051, 5383, 3993, 3328, 5738, 4923, 4214, 756, 3748, 4624, 6709, 3124, 6556, 5701, 6581, 3683, 601, 7844, 1635, 7523, 381, 4568, 1860, 3731, 149, 5688, 6215, 5832, 5367, 2849, 8121, 6550, 3048, 5555, 3747, 5058, 5333, 4237, 2455, 7863, 2137, 1286, 6337, 1791, 6350, 4370, 5086, 3556, 2579, 5332, 3199, 6297, 1413, 2372, 6630, 4851, 5425, 7417, 3922, 832, 725, 3404, 1284, 7252, 1133, 5926, 4401, 839, 7576, 2957, 4546, 7534, 6177, 702, 1206, 4670, 4577, 6726, 7227, 6740, 2300, 428, 6516, 5928, 7467, 4862, 3800, 6617, 2707, 7906, 4192, 7065, 4239, 6716, 6762, 7726, 6721, 2811, 3297, 1486, 3323, 6463, 7223, 2112, 526, 4206, 1542, 4927, 2247, 4810, 5776, 5804, 5123, 7244, 6666, 2004, 7145, 4652, 2207, 4109, 7663, 1517, 988, 14, 2320, 797, 528, 6154, 710, 4446, 2934, 2198, 3770, 3820, 350, 3531, 6554, 5522, 2277, 2717, 1578, 3056, 2072, 189, 2398, 1145, 3684, 1750, 3162, 5696, 1350, 4366, 2595, 4509, 7365, 3012, 5106, 4435, 3238, 4894, 679, 3347, 4180, 819, 986, 5283, 1797, 2093, 5636, 2557, 2249, 2208, 4868, 1962, 7567, 5189, 5363, 5577, 6326, 613, 7381, 6505, 8070, 7897, 2940, 4965, 7856, 4639, 3383, 4143, 5439, 5544, 7566, 3712, 5794, 7411, 2444, 357, 3649, 6700, 3252, 1025, 1011, 5673, 4801, 1489, 7110, 6480, 2649, 6674, 2301, 5175, 3410, 1298, 1685, 356, 576, 3700, 5199, 1538, 7668, 875, 4968, 344, 625, 5390, 3478, 4341, 8074, 4188, 4126, 3419, 5649, 7236, 2258, 1534, 379, 4195, 3431, 2489, 4097, 2700, 882, 3051, 5812, 6236, 4809, 7231, 2113, 4592, 521, 1536, 7140, 2264, 7720, 4083, 3066, 4758, 958, 2358, 6722, 8101, 234, 862, 2394, 4690, 5475, 6754, 1464, 3592, 5463, 5314, 6557, 2037, 3680, 5442, 2782, 13, 2026, 6057, 256, 5569, 6065, 7393, 1571, 5032, 2673, 2409, 588, 2494, 2626, 5839, 1569, 3188, 1302, 5645, 3950, 8023, 2882, 5698, 34, 7272, 1063, 141, 3987, 7987, 3355, 3362, 7212, 7944, 2978, 7621, 280, 1281, 686, 1267, 899, 2223, 7311, 2730, 3320, 2166, 7568, 3928, 5552, 1071, 6319, 7031, 2354, 7068, 5874, 3860, 4183, 3629, 3018, 6615, 562, 6520, 3064, 1783, 2436, 2901, 5825, 8052, 6128, 5038, 5788, 7660, 6152, 7725, 7030, 6803, 144, 2793, 989, 675, 128, 5602, 554, 5398, 3041, 7172, 3951, 2572, 7939, 4348, 3781, 5009, 636, 4821, 4289, 4993, 6566, 6385, 6027, 2145, 2638, 1746, 1844, 804, 4803, 5843, 3327, 4286, 2353, 599, 7706, 6766, 788, 7959, 2152, 779, 3488, 6738, 5373, 1773, 174, 1193, 2809, 5072, 36, 736, 5787, 8053, 5406, 5635, 1418, 4130, 5535, 5138, 3028, 3812, 2193, 1592, 1875, 4483, 7902, 7762, 2641, 6919, 2758, 7593, 7770, 2929, 2071, 763, 354, 4617, 3384, 5467, 1651, 2554, 4230, 6948, 1400, 2169, 3813, 7914, 2428, 5247, 3654, 6937, 7929, 8002, 4267, 1279, 2690, 7091, 5204, 7451, 6398, 413, 3317, 277, 1037, 650, 1733, 3283, 2926, 35, 7912, 3120, 7112, 565, 961, 3015, 6579, 987, 6189, 3523, 3780, 1482, 6820, 2633, 7752, 3709, 2008, 4013, 4242, 7537, 4178, 2366, 5291, 6507, 6971, 3260, 5395, 2480, 7077, 4990, 3334, 3342, 7401, 2582, 2545, 3097, 2973, 6131, 7573, 7666, 1506, 4564, 1209, 5054, 1894, 620, 5551, 936, 2846, 1223, 7554, 6355, 1823, 7066, 1618, 1704, 5187, 2946, 4254, 6605, 777, 1710, 5216, 6807, 3070, 197, 7556, 6799, 7889, 4938, 2492, 1576, 5591, 619, 7841, 5676, 2741, 7656, 4876, 2501, 3871, 6473, 4298, 4349, 2685, 8073, 3856, 7758, 4551, 1814, 3200, 735, 1068, 7432, 2703, 7057, 4687, 7983, 6916, 3130, 5193, 2067, 7472, 7361, 1677, 5616, 6188, 7582, 2772, 5939, 3821, 7255, 3752, 900, 835, 2254, 1469, 4578, 7217, 2184, 7864, 6411, 1417, 4731, 5593, 4444, 7208, 2791, 2269, 7274, 271, 7053, 4138, 8019, 2287, 2623, 5660, 1958, 5173, 1484, 4260, 2450, 2240, 4547, 1052, 6612, 6790, 4084, 2288, 1275, 2898, 1065, 5336, 834, 4265, 7082, 3790, 5607, 6546, 3194, 4377, 4361, 5652, 1809, 5845, 7689, 1412, 3605, 2499, 5417, 6535, 7604, 351, 6058, 2686, 5860, 3125, 3263, 1380, 1434, 7206, 4272, 4671, 711, 2880, 1035, 6390, 3845, 923, 2028, 19, 7518, 4231, 6327, 7896, 1643, 2415, 3545, 1177, 1159, 4961, 1670, 4895, 4225, 5537, 2212, 4217, 121, 4062, 3548, 6018, 7102, 7228, 2948, 22, 6673, 4680, 6723, 4186, 6232, 5896, 919, 6106, 5515, 6258, 3723, 3621, 724, 5280, 5818, 4222, 4755, 1034, 4201, 4475, 4709, 7196, 5623, 1735, 884, 2953, 2801, 7623, 5061, 7023, 5017, 3734, 7051, 87, 5396, 5783, 7853, 6985, 5335, 2902, 5760, 7821, 2708, 3595, 4841, 4360, 3313, 4913, 3895, 6705, 5049, 5603, 1366, 6988, 8049, 7007, 1391, 7010, 4613, 5451, 3594, 7760, 3575, 607, 7319, 8100, 3448, 7476, 2665, 2865, 820, 4416, 2039, 1407, 7732, 3555, 5384, 3228, 2523, 7109, 4991, 2029, 3552, 1192, 6244, 6746, 7392, 4523, 4662, 3689, 2803, 4916, 3608, 2988, 4933, 7308, 6868, 1664, 2613, 2866, 6240, 78, 7035, 1725, 3560, 4588, 6233, 828, 1306, 6736, 5135, 6539, 6741, 6769, 7509, 8021, 3298, 2751, 5007, 3933, 295, 5311, 6654, 991, 2196, 1204, 2487, 5014, 1064, 4774, 4326, 6655, 6602, 3109, 446, 4776, 6536, 2246, 8060, 7943, 5885, 3253, 5248, 6893, 319, 1314, 7267, 1331, 1751, 2420, 2858, 3843, 3710, 5706, 8020, 4022, 2928, 826, 3730, 869, 4799, 4152, 971, 7195, 2998, 1605, 6285, 6478, 7160, 5970, 341, 5597, 6616, 6718, 1767, 3196, 7162, 260, 1779, 5574, 5626, 6907, 2255, 842, 3604, 7176, 7287, 459, 6873, 895, 3534, 5201, 4095, 38, 764, 5687, 7325, 5963, 3870, 1213, 6077, 1520, 1287, 5227, 5192, 142, 5583, 4839, 1437, 4561, 3942, 6433, 4293, 5677, 791, 7187, 4604, 1423, 3286, 5089, 1249, 3026, 6792, 7161, 1389, 7367, 5107, 3622, 4845, 4746, 5697, 6490, 2120, 5292, 1512, 5205, 6652, 5682, 6200, 2894, 7054, 107, 3765, 4600, 7744, 6731, 7794, 3191, 5627, 7038, 4047, 7785, 160, 7378, 1210, 5229, 5159, 4044, 6364, 2478, 6231, 5863, 7757, 2658, 1835, 3204, 236, 3467, 5304, 1656, 3340, 2610, 6689, 1753, 5751, 1636, 3417, 42, 1876, 2549, 7694, 6426, 4263, 1351, 6552, 2153, 1477, 1475, 7209, 6430, 5093, 1527, 3029, 1639, 1045, 7800, 5771, 7678, 5269, 701, 5359, 1614, 704, 6099, 8088, 5708, 8117, 1299, 4337, 7924, 2192, 472, 7437, 369, 3662, 7843, 5048, 5530, 2759, 4456, 2089, 1465, 3960, 801, 3655, 3215, 4904, 6108, 4715, 6101, 4104, 8111, 7908, 5608, 6304, 7157, 5775, 4087, 3840, 7280, 1840, 794, 5, 1687, 6025, 6048, 7618, 6548, 4914, 7783, 1502, 4657, 3509, 4780, 2787, 6156, 5838, 1951, 7976, 1861, 4711, 7859, 7792, 7750, 3239, 3866, 6416, 494, 4759, 7703, 3721, 2167, 1627, 2780, 6595, 411, 7419, 5491, 7798, 7681, 7771, 2327, 5368, 3586, 3935, 186, 3682, 4912, 2463, 5693, 6856, 5347, 2143, 7612, 7464, 6171, 2942, 111, 1613, 7630, 3043, 972, 6464, 7105, 5136, 3302, 4725, 7214, 5802, 4651, 7273, 5125, 7820, 3464, 4246, 892, 183, 8107, 2439, 1327, 1932, 4928, 33, 7048, 4729, 8068, 2724, 7354, 156, 5366, 2950, 6785, 105, 3976, 2158, 2808, 7961, 318, 968, 4020, 2253, 7453, 1301, 90, 3229, 6217, 7526, 3341, 4930, 1994, 6969, 7028, 1273, 1581, 1845, 3927, 2910, 855, 868, 4598, 2471, 1682, 7722, 7823, 7828, 3547, 963, 5753, 1399, 6688, 249, 3457, 4167, 5930, 2384, 550, 6379, 1002, 616, 6935, 3142, 1782, 2706, 3479, 2524, 5445, 2516, 6118, 4384, 8059, 2521, 8091, 7445, 7870, 2016, 3119, 2059, 5534, 5989, 39, 3439, 3528, 6317, 1431, 3330, 4861, 3185, 454, 192, 3144, 3897, 1906, 7216, 2592, 5121, 1838, 6887, 6804, 7178, 4811, 5224, 3905, 6160, 5372, 6771, 4019, 2006, 7116, 2110, 7545, 5317, 3442, 5448, 2904, 8001, 201, 7521, 7590, 6499, 4660, 1411, 5419, 3294, 1232, 3563, 6409, 7306, 441, 1466, 4814, 6690, 7935, 4006, 7396, 6573, 912, 43, 1601, 4830, 1975, 624, 5553, 6537, 7909, 7675, 3396, 23, 2915, 7552, 184, 6693, 2655, 6139, 5859, 2970, 6610, 6565, 6458, 6892, 2410, 3787, 7332, 7175, 7037, 6266, 5404, 720, 5370, 5265, 2742, 4565, 4733, 7850, 4743, 436, 5144, 3319, 52, 224, 893, 5822, 5605, 501, 7201, 246, 6197, 1252, 1515, 7659, 1516, 384, 5182, 618, 5443, 2077, 2821, 1110, 4940, 1164, 7506, 423, 4211, 7017, 1692, 6677, 4638, 5568, 4053, 4447, 3501, 907, 5982, 2419, 5833, 1358, 3010, 7780, 6029, 4570, 617, 6085, 1439, 7763, 1909, 4067, 4750, 5113, 2417, 5184, 1460, 3706, 4089, 7013, 4591, 682, 4622, 5754, 2066, 2388, 3584, 495, 1047, 4707, 1184, 6195, 1498, 1675, 4952, 1495, 2722, 6093, 196, 4081, 1251, 7182, 1974, 218, 2675, 3401, 3485, 5090, 1819, 2182, 229, 3310, 3786, 3451, 3819, 179, 102, 2560, 7364, 1161, 7492, 1408, 388, 4185, 1031, 2583, 2220, 1705, 3756, 2349, 800, 3611, 2789, 2876, 6406, 1728, 3395, 6180, 419, 1901, 6110, 7957, 4009, 2903, 7132, 1166, 3242, 5225, 5861, 669, 4534, 3156, 2390, 61, 2853, 2374, 2183, 4032, 281, 2962, 3209, 4285, 5334, 3321, 376, 4655, 3247, 3218, 860, 2697, 7890, 4597, 4144, 4649, 1242, 1430, 3075, 3939, 3672, 3638, 3578, 3369, 368, 7234, 6749, 7285, 7180, 6904, 6114, 1829, 6975, 4749, 7829, 1479, 1960, 4469, 7390, 7916, 3193, 7756, 7682, 1139, 2710, 7530, 2779, 5437, 7490, 3443, 4122, 2977, 7368, 1176, 5167, 3577, 537, 5824, 5355, 706, 6913, 2221, 1916, 4650, 2833, 1395, 6911, 2175, 3613, 6978, 4001, 1102, 6827, 6713, 7793, 2558, 3428, 4218, 7050, 1654, 7503, 3962, 7356, 6454, 4689, 795, 7477, 2385, 1036, 3667, 484, 5141, 1119, 5211, 6888, 694, 8050, 954, 5946, 4583, 5013, 7177, 6753, 6287, 4872, 5142, 4996, 1195, 1262, 5152, 1476, 7062, 7555, 327, 4102, 2043, 3084, 2281, 1322, 2083, 3504, 7296, 3852, 5559, 1061, 4418, 1293, 3635, 6221, 5120, 6879, 390, 2464, 1373, 5469, 3266, 6845, 7993, 5222, 2138, 5040, 6010, 7636, 4463, 5296, 305, 4959, 6838, 5634, 359, 6237, 4025, 7882, 7514, 6991, 3568, 1113, 546, 4172, 1815, 6401, 1539, 1981, 3182, 2272, 4465, 6394, 431, 2735, 6842, 5726, 744, 2604, 2701, 4778, 6137, 5847, 7980, 5820, 3597, 2437, 511, 569, 6487, 2263, 4015, 2748, 7371, 5531, 7008, 6133, 5320, 7953, 1280, 8072, 6835, 7459, 1488, 2767, 7958, 1642, 524, 6707, 3640, 6643, 2369, 5566, 1424, 1383, 3671, 937, 4891, 1014, 4642, 124, 7461, 2465, 7457, 5053, 5218, 7759, 2442, 2889, 233, 4065, 331, 1953, 3476, 6501, 1666, 6743, 1872, 3749, 5864, 5959, 7254, 861, 3524, 5707, 6036, 2057, 5110, 1970, 5202, 542, 4331, 3295, 458, 3378, 840, 3304, 5654, 2356, 6841, 7454, 5158, 5628, 7355, 4918, 56, 2941, 437, 1522, 507, 5056, 2923, 4378, 7970, 4187, 3094, 1096, 4584, 1246, 7587, 7995, 7837, 2662, 1547, 4698, 2949, 1336, 2609, 2551, 7686, 7168, 7560, 5665, 5220, 4038, 7481, 4793, 3308, 2361, 813, 6897, 6500, 6585, 578, 7997, 223, 2603, 5816, 4679, 6828, 1991, 4197, 2441, 7431, 6015, 5670, 1220, 787, 7932, 6282, 1066, 1709, 641, 7765, 2412, 2466, 2857, 7866, 1405, 3318, 3198, 4939, 2776, 6076, 3878, 2654, 4026, 610, 24, 2024, 7407, 4867, 6357, 5381, 4287, 4376, 6222, 938, 6874, 3738, 7313, 3047, 4829, 1757, 519, 3197, 1371, 2000, 5231, 3497, 2414, 2290, 3083, 4099, 7973, 3492, 1316, 4503, 3110, 3435, 3189, 3514, 1963, 1853, 4054, 7633, 2636, 2611, 6644, 964, 5003, 6004, 3177, 7497, 6933, 6098, 1812, 3468, 4313, 5316, 2339, 4023, 751, 349, 8085, 1891, 6768, 6212, 5786, 5999, 3213, 2360, 1300, 7687, 6142, 2243, 2640, 2438, 6158, 6384, 4426, 2235, 2986, 6312, 2244, 543, 5899, 7421, 5716, 6229, 2297, 1112, 1483, 6859, 1368, 3688, 7917, 4853, 5241, 2363, 4511, 4870, 7398, 7833, 7249, 4029, 5027, 3729, 4812, 1784, 7717, 2870, 6951, 6087, 6090, 3653, 2305, 7605, 5907, 6973, 3044, 3131, 2172, 7225, 2617, 1077, 6489, 5510, 2386, 1997, 3701, 3447, 6882, 3136, 5197, 5590, 2571, 7181, 6396, 2491, 2330, 1225, 3776, 6676, 3760, 84, 7331, 6593, 5215, 2899, 1328, 1908, 1896, 7420, 4574, 2916, 3002, 898, 4311, 6028, 2002, 4557, 5538, 6732, 2537, 7978, 5974, 6957, 68, 6750, 2818, 4745, 2656, 4873, 2878, 2979, 4157, 3735, 1966, 1278, 5855, 1491, 1396, 4043, 7871, 939, 3068, 476, 6434, 1138, 1001, 7304, 4368, 7095, 4866, 595, 7657, 6359, 7931, 5337, 6584, 2286, 7370, 2380, 4459, 5147, 516, 4462, 6254, 8011, 3954, 6609, 2670, 7438, 1095, 5594, 781, 6000, 3527, 7466, 4200, 6271, 1292, 1611, 4785, 5095, 4981, 3296, 1343, 1237, 6302, 910, 2874, 7905, 995, 3148, 4306, 778, 1752, 2734, 4039, 6515, 125, 245, 6624, 7624, 6372, 6046, 4722, 1158, 7936, 3261, 3679, 5600, 6979, 2096, 7804, 793, 2799, 7085, 7778, 1993, 6498, 5969, 7014, 5078, 5570, 2884, 4049, 6889, 263, 6555, 8030, 7907, 5516, 3134, 2191, 1579, 8003, 4240, 5631, 1653, 7540, 3711, 1924, 4537, 2580, 5840, 6884, 7469, 116, 7198, 342, 6423, 7679, 126, 1798, 97, 8119, 950, 7575, 7812, 2109, 6338, 4016, 4117, 3931, 5913, 7092, 4645, 5741, 3285, 1219, 3517, 287, 5719, 6930, 7594, 1600, 5035, 1781, 7742, 3956, 5942, 1556, 257, 4330, 6918, 4142, 3358, 2509, 2792, 3853, 5285, 2908, 2911, 3698, 712, 7499, 2931, 7553, 586, 6089, 6657, 5920, 2749, 261, 3952, 931, 5046, 5796, 4069, 4375, 6437, 914, 6830, 168, 4932, 4760, 2553, 6495, 3823, 115, 597, 2134, 5504, 6765, 487, 5917, 8006, 6072, 3315, 4131, 286, 2099, 3117, 866, 1513, 2092, 6639, 5541, 7032, 5979, 3065, 7302, 2826, 4036, 7580, 6306, 6532, 5453, 1589, 4828, 3625, 1524, 7781, 3179, 583, 7410, 2425, 8062, 2284, 5210, 3798, 3014, 5160, 593, 4599, 5286, 8029, 1703, 1471, 5267, 2396, 5080, 6358, 6278, 6779, 4694, 2053, 7716, 6829, 8008, 5929, 3900, 6800, 3116, 8076, 1940, 4908, 248, 5044, 3149, 7990, 406, 6961, 663, 3972, 1914, 3214, 6208, 4964, 3634, 6095, 7971, 5010, 3832, 307, 6378, 5196, 6291, 2321, 5385, 1160, 3792, 5514, 6204, 1514, 1892, 2382, 158, 7695, 6613, 703, 693, 361, 5489, 6075, 330, 4387, 5830, 6126, 67, 7975, 7831, 1, 2556, 3769, 7262, 656, 1487, 2194, 227, 348, 5438, 3089, 5485, 4094, 3168, 2546, 4406, 7000, 3647, 4507, 2666, 7982, 504, 500, 7222, 3394, 1702, 1558, 4992, 4956, 3086, 3826, 5426, 6170, 4863, 5728, 7350, 235, 4905, 1938, 1140, 5730, 6185, 1022, 585, 4682, 2427, 7027, 2046, 6060, 7818, 513, 4987, 1332, 573, 4779, 5789, 3101, 4626, 6915, 3508, 6647, 1432, 5715, 4116, 2918, 3486, 6675, 2211, 3716, 1789, 6344, 5633, 2600, 4250, 5667, 3398, 6011, 1604, 2996, 584, 4258, 6574, 6144, 6370, 4362, 5399, 7475, 5923, 5358, 5934, 4428, 7473, 4107, 6646, 3566, 3368, 1620, 4619, 4080, 2446, 1444, 2944, 1372, 7639, 7070, 6381, 6659, 393, 1419, 1531, 2259, 6962, 1987, 7529, 275, 7700, 6826, 6361, 5592, 7628, 733, 2027, 5444, 2056, 3487, 4587, 5643, 3433, 883, 442, 5625, 5281, 681, 378, 3183, 1288, 315, 3423, 6080, 6742, 4549, 4066, 7845, 7036, 7713, 6774, 1965, 6191, 3980, 903, 1201, 5155, 2377, 2324, 3844, 741, 6527, 4210, 2739, 4741, 5375, 4666, 924, 4947, 486, 7606, 974, 2785, 7403, 195, 4092, 6107, 4936, 3773, 7158, 3564, 2678, 1445, 7892, 2433, 57, 1148, 5266, 6751, 6513, 5117, 1451, 2020, 1684, 824, 5714, 3693, 1129, 5397, 3930, 7159, 1598, 3455, 7379, 3600, 5937, 7721, 6920, 4245, 3420, 4606, 639, 1152, 5752, 6203, 6425, 881, 6853, 4399, 5232, 2351, 2746, 5703, 3643, 7146, 3725, 6293, 6043, 2872, 7719, 4712, 4576, 680, 1641, 2488, 1736, 6582, 5047, 4033, 5944, 2790, 935, 4985, 5613, 5747, 1885, 7942, 6086, 7999, 6510, 1007, 1590, 6840, 2242, 2373, 3232, 5223, 4420, 2663, 4902, 4677, 8112, 1794, 5545, 5827, 4385, 5519, 1093, 7977, 3896, 6241, 1989, 1480, 1329, 4703, 4432, 5849, 5542, 3081, 4381, 5057, 1315, 6267, 7736, 556, 4737, 825, 159, 6186, 1226, 4160, 3543, 4184, 541, 3854, 4213, 5295, 2116, 7044, 652, 845, 969, 462, 1187, 7696, 5023, 3470, 4176, 6467, 1255, 7527, 1253, 1224, 7123, 4834, 2514, 1171, 1852, 7171, 4704, 1346, 687, 1313, 1824, 4194, 2387, 1410, 182, 2124, 2163, 5464, 2712, 5588, 2526, 2426, 99, 1884, 1040, 239, 7672, 651, 1518, 2088, 2939, 3461, 5506, 2108, 5853, 6601, 4849, 7852, 3392, 2570, 7224, 7933, 4545, 854, 2468, 7572, 6307, 3572, 3872, 5532, 5575, 4840, 3791, 5133, 864, 3830, 5862, 364, 7200, 911, 4924, 7899, 6518, 2732, 7290, 2371, 6249, 1174, 1132, 8104, 4158, 1254, 6455, 4955, 1910, 4224, 8086, 7310, 4174, 2506, 4145, 6816, 2693, 1345, 1662, 850, 6522, 2104, 31, 7881, 3434, 5278, 7854, 5709, 4243, 7276, 6777, 3971, 3226, 204, 8055, 722, 4769, 3932, 3150, 1188, 4935, 730, 7188, 2129, 2606, 3610, 1375, 2672, 122, 1403, 3453, 3864, 514, 7153, 6649, 2337, 2590, 689, 6132, 6878, 3206, 3805, 2777, 4220, 6445, 2682, 7738, 6801, 2520, 7548, 313, 7169, 5638, 7334, 2877, 6068, 5157, 6568, 3858, 4824, 1189, 2117, 3661, 1039, 1711, 3936, 4632, 94, 3978, 478, 7645, 6469, 7219, 6670, 2773, 7446, 2078, 7376, 5079, 8042, 2723, 1588, 2596, 217, 1510, 605, 3274, 6509, 5279, 4833, 1948, 7257, 2963, 6760, 6928, 6956, 7484, 7063, 4595, 7955, 5632, 1843, 6325, 2671, 4782, 1235, 3829, 5084, 198, 6247, 3941, 8115, 5683, 6088, 677, 1777, 3118, 3894, 959, 5059, 2001, 2149, 3312, 3426, 2082, 5482, 6119, 7232, 1663, 849, 1442, 7517, 2511, 5909, 8037, 4723, 5392, 5246, 5640, 5353, 418, 796, 5452, 1404, 1463, 6424, 5773, 4278, 5172, 4756, 3244, 5065, 6166, 7496, 6729, 1168, 7442, 7901, 634, 5169, 2155, 1067, 7524, 4672, 301, 8120, 4487, 2714, 761, 2608, 6717, 1561, 3904, 5844, 709, 2326, 7620, 1342, 3754, 1208, 2241, 933, 6877, 7508, 7974, 212, 6698, 6770, 5585, 8004, 6235, 4675, 6861, 1106, 5132, 5562, 3811, 1094, 5190, 1792, 5866, 5351, 4506, 3532, 6739, 6399, 5581, 2097, 2003, 4527, 534, 4544, 1272, 5029, 6963, 611, 1088, 2276, 6395, 6687, 5868, 1799, 3797, 2375, 427, 6283, 7730, 1190, 1147, 1976, 3034, 5892, 5288, 1178, 4766, 2403, 7516, 7020, 7745, 5831, 3236, 2154, 2999, 3360, 282, 2328, 7250, 1756, 386, 5115, 6349, 922, 1912, 5739, 6772, 3606, 1312, 5586, 7848, 2289, 3893, 5077, 2930, 2715, 3739, 7293, 5455, 5250, 1379, 7226, 2445, 1325, 721, 5024, 5925, 8039, 4816, 6504, 3656, 7241, 6679, 889, 1397, 3483, 5889, 5495, 1827, 5598, 5685, 2752, 1012, 1115, 3652, 396, 1766, 5617, 5791, 2589, 6049, 7647, 4396, 2893, 6572, 5571, 5481, 4491, 5313, 3267, 1615, 1770, 4319, 6122, 6900, 135, 2900, 4946, 5870, 4575, 7948, 4643, 6763, 3480, 5137, 6183, 1409, 3719, 5203, 7565, 1943, 5145, 1473, 5781, 1079, 714, 4989, 1268, 6288, 5674, 5062, 1712, 3674, 1873, 4907, 1817, 7240, 1715, 5146, 7601, 0, 7363, 2547, 4445, 4563, 6781, 5579, 6061, 3460, 6967, 6596, 1217, 6561, 7536, 2485, 856, 814, 5790, 2627, 4321, 6683, 5563, 3510, 259, 5810, 2848, 2652, 5984, 7389, 3477, 1700, 7282, 7003, 4548, 1283, 7571, 917, 2315, 967, 5361, 5357, 6667, 2497, 1429, 6757, 1082, 2260, 3919, 85, 2472, 6938, 7862, 6481, 1851, 3909, 3087, 5245, 966, 684, 449, 5178, 2750, 5249, 1361, 187, 6980, 2951, 5931, 5971, 2835, 3745, 5339, 3696, 3307, 1607, 5778, 1915, 3469, 4357, 2187, 4011, 7137, 3914, 4934, 7322, 956, 6761, 3153, 2844, 888, 4616, 4234, 2544, 1282, 6449, 4472, 3617, 5727, 4382, 5769, 4308, 6523, 7479, 258, 2424, 1394, 1869, 4762, 1761, 352, 6360, 930, 2721, 7614, 535, 6153, 4658, 7260, 5543, 4941, 2503, 5731, 243, 253, 5302, 4806, 5695, 3837, 6875, 5548, 326, 6314, 918, 2341, 3219, 7317, 3174, 4408, 8082, 6811, 2210, 6825, 6155, 2038, 209, 7680, 4371, 4417, 7710, 2500, 5779, 2295, 7073, 7494, 5374, 226, 7150, 8084, 4403, 2044, 6711, 321, 3414, 3777, 2421, 3178, 4379, 6852, 548, 6764, 3293, 4017, 6453, 1879, 5348, 5958, 6273, 7125, 7564, 5533, 4848, 5653, 7327, 2161, 965, 3050, 4818, 7215, 1233, 4925, 747, 6383, 7470, 3160, 2311, 1867, 3032, 2084, 5908, 3801, 2177, 6857, 373, 7676, 1126, 453, 2031, 7851, 1151, 3753, 2753, 6026, 6592, 1760, 334, 7707, 7242, 5587, 2806, 5977, 1680, 3977, 4159, 7248, 1587, 790, 4431, 6622, 5561, 6242, 5521, 2718, 1097, 5507, 7404, 6259, 5213, 2687, 5376, 2036, 7164, 5394, 1825, 638, 5487, 455, 5936, 4423, 5099, 3139, 2664, 6452, 2535, 3581, 2132, 5067, 4892, 2585, 3237, 171, 1521, 2435, 996, 92, 4864, 3415, 69, 5582, 831, 525, 4889, 4004, 422, 1493, 1661, 1062, 28, 1594, 7500, 1078, 58, 2810, 5490, 5045, 2079, 2225, 304, 5380, 2306, 6371, 1414, 7076, 7377, 3390, 3436, 399, 1854, 1216, 6064, 5472, 2530, 3251, 3533, 1638, 3151, 6960, 4535, 6614, 992, 3164, 3495, 4517, 117, 7458, 6798, 2737, 1244, 886, 7817, 7777, 942, 2913, 3569, 7954, 5098, 2482, 5922, 1028, 563, 7886, 5978, 6600, 3973, 4241, 5087, 6389, 2013, 6193, 5655, 916, 6382, 4532, 4343, 490, 5809, 5324, 1988, 3929, 219, 30, 1458, 3190, 2989, 1074, 4963, 1727, 3736, 5606, 6009, 6540, 3998, 2935, 4118, 1863, 2522, 2422, 1317, 5411, 6783, 5520, 143, 210, 673, 4890, 222, 2218, 4721, 3473, 1665, 5016, 3241, 279, 6678, 3385, 7465, 1392, 2850, 7570, 2173, 5938, 6832, 2525, 7165, 5792, 4262, 7855, 5912, 5619, 3291, 5312, 7207, 3152, 1552, 6466, 4443, 3733, 1742, 553, 6587, 2128, 1172, 4634, 1123, 590, 6341, 604, 5043, 719, 145, 5957, 8000, 3363, 6912, 902, 6866, 6143, 5168, 6821, 6885, 3133, 4466, 5672, 909, 4480, 5020, 2567, 4108, 7737, 6447, 2308, 4590, 4280, 2637, 1560, 3590, 242, 4618, 7098, 8017, 5762, 4155, 3995, 7018, 6994, 3758, 5972, 4525, 4949, 4943, 7683, 5114, 4602, 1200, 2370, 2313, 4269, 7134, 481, 2830, 6734, 5767, 7067, 1122, 7549, 53, 5993, 7616, 3186, 173, 2359, 953, 1801, 5264, 3580, 3888, 944, 2771, 4164, 4910, 4414, 4115, 7425, 1497, 4621, 466, 5289, 7119, 2781, 7972, 1265, 2122, 3233, 7263, 4288, 407, 5356, 15, 272, 7991, 1800, 5163, 2864, 4422, 4765, 4612, 2033, 2804, 2140, 3612, 391, 1968, 7192, 3105, 6468, 7913, 5037, 4275, 176, 6239, 3, 5785, 6400, 2838, 852, 3021, 692, 1162, 6755, 4522, 4610, 2859, 8040, 4967, 7723, 4550, 4294, 6438, 177, 1266, 7412, 7305, 6784, 7071, 3195, 3793, 6431, 3788, 4046, 1111, 6420, 1101, 336, 2291, 1163, 76, 4388, 3968, 7724, 1738, 7033, 7148, 6213, 3511, 5094, 489, 6503, 7375, 5130, 4352, 5876, 416, 1597, 3974, 6538, 4374, 1478, 3883, 10, 7764, 2794, 2660, 1338, 4900, 1311, 5815, 533, 5869, 2443, 2178, 3660, 1998, 6310, 3522, 5134, 7434, 1507, 6024, 380, 5539, 5828, 73, 2142, 7637, 672, 2823, 7650, 7455, 4363, 1308, 5386, 1501, 6608, 5073, 2616, 3106, 300, 3366, 7569, 5669, 6514, 4838, 1054, 27, 4153, 3231, 100, 220, 4881, 8038, 6626, 6847, 5819, 740, 3728, 5462, 697, 2105, 5770, 6549, 3009, 7541, 2597, 847, 2106, 3393, 7968, 7456, 7945, 4467, 7351, 932, 6665, 2796, 5389, 2726, 1977, 780, 3804, 970, 7773, 6733, 5717, 2449, 6562, 3167, 4880, 3757, 4691, 4035, 1156, 2333, 5360, 7795, 7133, 1083, 3098, 3989, 1511, 3637, 4676, 7772, 7787, 7740, 6947, 7649, 4434, 6964, 661, 6981, 4797, 7671, 3961, 3664, 6702, 1320, 3544, 7382, 530, 451, 5604, 4400, 587, 7964, 1349, 6846, 929, 3539, 4874, 2668, 5678, 7122, 5476, 3902, 3614, 7801, 6145, 1864, 6439, 3240, 3849, 1591, 4920, 6321, 6966, 1203, 2268, 1555, 6097, 4740, 2399, 5031, 2171, 175, 505, 7535, 7858, 134, 2619, 1595, 355, 4915, 2432, 1694, 6589, 3759, 7799, 629, 3316, 5315, 6682, 3482, 12, 6324, 2647, 5352, 7080, 5765, 784, 817, 147, 5499, 5243, 5041, 2021, 1647, 1893, 4558, 199, 6551, 3452, 346, 3529, 786, 2278, 5402, 4249, 71, 6895, 5846, 4181, 666, 7433, 2936, 1608, 946, 4380, 7670, 7358, 655, 4945, 1978, 723, 2761, 6564, 3289, 3276, 3665, 1141, 4787, 6986, 630, 188, 1058, 4543, 4438, 5565, 3108, 4633, 7803, 1857, 4843, 2431, 658, 2017, 3970, 1167, 2754, 5811, 7462, 4637, 1100, 264, 2296, 7193, 3005, 7318, 2892, 6199, 1505, 3192, 4439, 4228, 1367, 7344, 6, 6637, 1716, 5983, 2050, 2800, 3379, 6660, 3020, 5200, 2407, 7938, 3202, 5308, 7546, 3789, 4490, 3630, 1356, 5076, 6404, 3223, 3707, 4951, 119, 6788, 1877, 1337, 3284, 6823, 6201, 6202, 2331, 7243, 3057, 4123, 202, 6917, 4478, 6226, 6037, 3892, 7323, 2230, 2621, 6462, 4878, 7965, 2042, 6664, 4744, 5962, 3141, 6173, 2533, 5276, 5745, 3076, 7811, 1850, 1059, 5226, 1369, 2552, 6959, 4342, 4495, 5609, 1377, 1013, 3918, 3690, 1508, 1020, 7878, 298, 3040, 4700, 2822, 5354, 2886, 74, 3908, 1831, 6929, 3771, 6070, 6681, 6417, 7609, 2144, 429, 614, 6901, 4394, 1999, 387, 1050, 4504, 5143, 6869, 1918, 66, 4585, 415, 397, 5236, 5127, 1689, 7979, 570, 6365, 3538, 339, 70, 3474, 8081, 5689, 3726, 4271, 6836, 123, 1839, 2797, 7495, 7903, 2381, 3910, 1474, 1387, 3000, 6553, 3157, 1321, 1303, 2447, 474, 1365, 5755, 5642, 7471, 789, 509, 7617, 6903, 3663, 559, 4165, 3003, 7796, 608, 7197, 7830, 3268, 1333, 2995, 1759, 6773, 1657, 1296, 4562, 2591, 3180, 2058, 4147, 2345, 3409, 4283, 1118, 7588, 4248, 6813, 515, 6543, 2216, 823, 5758, 2881, 7992, 4314, 5526, 162, 848, 6680, 5881, 5629, 1211, 4424, 698, 3471, 2307, 3713, 6934, 1270, 4209, 6392, 7834, 3515, 5883, 6508, 3155, 1667, 2531, 1467, 3314, 631, 3220, 657, 3245, 1678, 4336, 6410, 908, 4582, 4581, 4259, 7923, 7127, 1326, 5479, 5194, 2250, 375, 8035, 5766, 6063, 7194, 4232, 1848, 6111, 783, 1874, 1528, 5666, 7542, 1085, 539, 5836, 1557, 1672, 3807, 5050, 7294, 2229, 1214, 7152, 6354, 1816, 7597, 1032, 4128, 3591, 4513, 4836, 6867, 6079, 439, 4233, 5656, 594, 7728, 3441, 1435, 21, 743, 5474, 2924, 871, 1248, 4976, 6219, 5486, 6945, 4088, 5322, 273, 5880, 7487, 5118, 3913, 448, 5722, 1669, 6744, 4170, 7648, 3103, 5500, 7615, 718, 635, 3246, 5805, 3740, 3541, 6053, 3869, 4772, 3071, 6020, 5601, 1731, 4450, 4162, 4752, 1755, 7915, 6316, 6745, 2204, 5641, 5033, 1285, 6577, 5895, 7768, 4899, 818, 389, 337, 3333, 4473, 4307, 7474, 7502, 4129, 3782, 4795, 5273, 4281, 6696, 4297, 4654, 4601, 4027, 3825, 3912, 6921, 6112, 5686, 6699, 2696, 7501, 6138, 7673, 4353, 1785, 3418, 685, 6047, 5817, 5105, 2937, 3300, 2131, 3963, 5242, 296, 1931, 7307, 1360, 4193, 7016, 7622, 6669, 579, 4215, 7775, 4098, 4805, 3205, 4556, 7130, 7075, 510, 2896, 3337, 8123, 503, 1895, 6012, 1718, 738, 3381, 3889, 7698, 5879, 6583, 3646, 2275, 6140, 2972, 772, 7320, 1385, 5740, 5244, 4877, 3256, 532, 1238, 2496, 1583, 5941, 775, 4457, 4208, 2508, 5932, 1364, 2476, 6896, 360, 6651, 325, 48, 480, 5209, 5508, 1673, 7213, 5492, 3867, 3373, 4149, 2319, 2408, 4150, 5005, 3874, 4516, 7652, 7141, 1041, 623, 6331, 7638, 3438, 7447, 602, 3440, 7113, 1169, 7072, 6851, 75, 7727, 3305, 1554, 4042, 2098, 7654, 7414, 6257, 8012, 6292, 2588, 2512, 4702, 7877, 2757, 1744, 5471, 2045, 6091, 2151, 5277, 7840, 3484, 3235, 169, 4692, 6864, 132, 2123, 2736, 3096, 1049, 6256, 1674, 1714, 5052, 6494, 4683, 3981, 7391, 3670, 83, 7751, 3774, 2820, 5179, 3063, 1563, 3814, 4882, 5668, 1979, 2802, 1230, 843, 4984, 5460, 3146, 6007, 7259, 5995, 708, 3007, 3011, 3761, 7592, 4850, 3562, 3903, 3985, 7400, 7049, 7583, 3901, 2440, 4531, 5744, 1717, 7386, 6521, 7967, 2824, 5961, 2102, 5391, 2189, 1073, 6591, 5713, 4788, 2011, 571, 1207, 3818, 1758, 2469, 4045, 7963, 4790, 3507, 4077, 3234, 3802, 4078, 3546, 2784, 2397, 1930, 2727, 4825, 549, 7246, 6435, 891, 265, 952, 6984, 2967, 6953, 6373, 3602, 6886, 2954, 7996, 151, 4901, 7046, 7283, 7631, 6340, 2814, 3891, 6926, 1026, 1928, 266, 5624, 1056, 7452, 3491, 110, 2798, 6691, 6990, 7498, 5262, 4777, 2920, 408, 5684, 4678, 4977, 7060, 3732, 2504, 5720, 6141, 4005, 3462, 3938, 833, 670, 529, 1921, 1575, 3718, 2316, 4823, 3676, 4668, 5662, 7847, 1956, 4101, 2391, 3387, 3633, 5221, 4449, 4301, 4398, 4268, 2760, 7927, 7170, 3427, 7761, 921, 2252, 7876, 6858, 7291, 5343, 3851, 5341, 4086, 3847, 7230, 1259, 7043, 6844, 3911, 3651, 3498, 6872, 4659, 6834, 863, 668, 857, 3512, 308, 4074, 945, 3361, 3794, 1820, 6050, 2593, 4593, 4819, 7115, 6876, 7136, 47, 732, 3526, 873, 627, 6997, 2188, 5952, 1990, 6638, 3224, 1941, 6880, 1625, 6824, 8095, 5297, 1468, 2762, 3589, 1644, 6279, 98, 7147, 2185, 3848, 838, 4052, 5782, 7884, 1426, 1546, 6621, 1637, 5154, 1481, 4091, 434, 7058, 4921, 228, 6248, 5763, 2062, 2914, 3093, 2107, 5465, 1526, 8122, 1810, 54, 2323, 2040, 2271, 4858, 4284, 7701, 7547, 3375, 1048, 7664, 7814, 802, 1577, 4973, 5904, 7239, 7708, 2376, 1370, 5914, 4589, 4879, 3574, 17, 7340, 2238, 4950, 1748, 5980, 1730, 2090, 5901, 3882, 7271, 5772, 2470, 6671, 520, 5718, 1472, 7960, 5710, 7952, 3720, 2783, 2179, 5323, 690, 1846, 7435, 5108, 7336, 6179, 18, 7184, 3827, 5927, 5212, 1720, 4727, 7610, 7265, 3742, 3784, 1038, 2832, 1070, 4279, 980, 7299, 3598, 1626, 2959, 3850, 2629, 5494, 890, 4154, 4627, 2956, 612, 688, 3350, 7394, 7107, 4410, 7203, 2868, 727, 7602, 5704, 2022, 2298, 4276, 1446, 6672, 3336, 432, 1722, 5560, 6056, 269, 6069, 5911, 4540, 6778, 1310, 6443, 5943, 3746, 2458, 6528, 3449, 4440, 6393, 5466, 5759, 6860, 2515, 4221, 4566, 2479, 290, 982, 5070, 1740, 5898, 6923, 3573, 2829, 1562, 2052, 4559, 4827, 3880, 4884, 2863, 6958, 2659, 2620, 4897, 1606, 5300, 1470, 6251, 3917, 2181, 6974, 8065, 3554, 320, 5729, 5918, 3062, 3530, 6032, 7966, 3948, 7947, 3377, 1721, 3424, 3982, 4354, 3540, 5422, 4502, 2304, 2559, 4734, 7347, 2601, 5424, 164, 297, 4696, 430, 5319, 1130, 6210, 981, 4958, 5798, 136, 7491, 4820, 438, 6776, 4594, 606, 1686, 7413, 395, 506, 2991, 1218, 2614, 3270, 5128, 1116, 8045, 2087, 5968, 95, 3535, 1454, 973, 1199, 1826, 6806, 4156, 6496, 6016, 2650, 89, 8113, 2054, 7712, 2774, 1548, 2214, 3067, 6747, 6968, 3831, 6253, 6363, 3082, 1859, 1788, 5180, 5826, 3724, 3128, 879, 3979, 1729, 1541, 6227, 254, 7562, 3405, 7426, 1775, 6104, 798, 6580, 1632, 3049, 4, 6590, 2550, 603, 3397, 3265, 7797, 377, 317, 5207, 7634, 676, 3163, 5702, 2329, 1033, 5198, 1922, 7880, 2538, 1043, 6502, 5724, 4247, 1646, 3499, 161, 5877, 5955, 3859, 7339, 2945, 1000, 4474, 2747, 3521, 6001, 2379, 1609, 1629, 6121, 8105, 4567, 7769, 7749, 7151, 5233, 3863, 2228, 4261, 4771, 2318, 1830, 7314, 2966, 6899, 1603, 65, 5423, 5821, 1763, 2130, 3881, 2729, 310, 1688, 7266, 4024, 4191, 1044, 6545, 6818, 255, 3834, 49, 7064, 252, 5378, 997, 1440, 6275, 2738, 309, 6870, 5725, 3505, 1545, 645, 760, 4909, 7641, 538, 5501, 6955, 4390, 1318, 6862, 1438, 1131, 6165, 5721, 3069, 4484, 7089, 3367, 213, 4461, 4175, 6737, 7348, 140, 6942, 7121, 3463, 4994, 7519, 3803, 9, 2362, 499, 7416, 3855, 6134, 7665, 6102, 129, 3588, 6149, 3079, 2562, 4386, 5523, 5803, 6083, 5615, 4189, 4407, 8089, 5723, 5549, 1183, 7329, 2032, 2764, 7511, 8022, 1764, 6839, 131, 1295, 7691, 1944, 6797, 5092, 6795, 3013, 1340, 4767, 4238, 6198, 552, 6167, 5512, 6176, 3432, 6388, 4048, 7084, 2457, 2406, 7362, 1084, 1593, 904, 4896, 3272, 5307, 7810, 5364, 154, 5371, 4496, 2594, 6136, 2064, 3887, 2344, 8046, 3030, 3884, 985, 6230, 6530, 1986, 420, 1559, 3557, 5540, 7591, 3322, 2095, 5556, 5529, 4093, 7118, 3783, 5903, 7012, 3607, 5382, 512, 2812, 284, 3472, 214, 6597, 157, 6692, 4533, 5021, 1904, 4119, 2587, 1060, 5011, 2643, 2266, 5567, 7598, 4686, 3422, 5412, 1261, 5658, 6255, 4647, 1889, 6629, 3303, 1842, 7387, 3061, 1724, 1878, 1772, 5477, 2118, 1456, 5234, 5104, 1649, 5063, 2049, 7934, 6123, 4944, 6440, 870, 4482, 4096, 3861, 4037, 3988, 5344, 435, 2135, 7205, 7632, 3170, 815, 5083, 4127, 4256, 2190, 2834, 2148, 6881, 1631, 1125, 7867, 6855, 4411, 5857, 926, 5795, 479, 6342, 2548, 4775, 1374, 1153, 5933, 1699, 6706, 477, 7108, 1490, 6512, 5940, 6544, 1398, 4493, 2234, 1771, 7596, 7369, 7333, 2461, 3659, 3345, 468, 4437, 4648, 1617, 6715, 948, 3645, 6402, 5039, 7883, 6560, 7718, 3997, 3399, 1004, 6117, 4355, 5239, 471, 5610, 469, 5019, 2856, 1019, 4481, 6262, 5408, 7074, 1018, 404, 1081, 1229, 2763, 2993, 2565, 3965, 452, 4356, 1902, 1290, 3171, 6002, 5435, 502, 582, 6387, 5950, 4295, 7704, 1179, 2342, 1194, 3112, 951, 6209, 3516, 7270, 3073, 5407, 5801, 5112, 4697, 6604, 372, 2684, 3444, 7094, 3212, 5111, 29, 3836, 3454, 6260, 7284, 1837, 1080, 323, 4018, 2679, 1841, 5282, 2047, 6051, 7264, 3046, 3277, 293, 6833, 5906, 941, 6618, 2452, 3255, 3287, 2860, 4173, 1307, 1309, 6906, 2622, 1676, 4223, 6129, 2676, 2842, 749, 5886, 2705, 3359, 7685, 2677, 5954, 2115, 3620, 841, 4847, 1913, 8092, 4931, 1776, 5071, 3727, 615, 4663, 1271, 6812, 2786, 289, 3949, 1008, 3129, 3964, 2981, 2368, 4455, 353, 8083, 7951, 7513, 3095, 5994, 1443, 5119, 6038, 2994, 6598, 8067, 3796, 6569, 1950, 4409, 7303, 7857, 920, 7653, 5488, 1121, 1780, 785, 6905, 7729, 7309, 4732, 1739, 6641, 5527, 8005, 2357, 285, 580, 5427, 3907, 25, 4720, 659, 5405, 2283, 3227, 5051, 2226, 6620, 5301, 2139, 1057, 3694, 2141, 6810, 1297, 897, 6270, 4519, 1324, 5088, 5272, 4252, 5036, 109, 5858, 6710, 1679, 2725, 6996, 4611, 5887, 6703, 3650, 4764, 4705, 752, 7135, 6817, 2010, 5030, 7888, 3846, 2510, 4886, 990, 62, 5298, 1813, 7577, 5813, 5856, 2778, 2251, 238, 6794, 6172, 1619, 4986, 2615, 7504, 1422, 4041, 6932, 2952, 4452, 1774, 5637, 3039, 492, 5700, 7782, 1381, 5976, 6571, 6187, 1821, 2200, 5461, 561, 2815, 7558, 1433, 8064, 1939, 1462, 598, 637, 2879, 1856, 7734, 2698, 6456, 104, 5612, 1957, 1457, 6822, 133, 993, 707, 3945, 7428, 2543, 1778, 4753, 6224, 2855, 1971, 3208, 901, 225, 5237, 4057, 3685, 3181, 7839, 2653, 2484, 112, 457, 3822, 7399, 768, 5102, 3503, 2661, 2413, 1706, 2646, 4630, 2805, 463, 5493, 5712, 7836, 3257, 7629, 8018, 1076, 5871, 1485, 3615, 6802, 1745, 2955, 6941, 1221, 2817, 925, 4970, 7677, 3992, 1865, 7335, 1964, 4274, 6211, 6182, 742, 3354, 555, 3969, 5746, 7440, 1256, 6493, 3990, 7603, 4110, 7039, 3518, 1582, 3053, 7808, 4542, 4681, 206, 398, 2960, 5897, 6854, 1550, 5217, 6531, 2932, 1668, 1427, 6206, 5884, 4395, 1551, 2984, 3714, 4359, 2314, 7045, 1897, 7873, 3631, 6436, 4699, 1289, 3339, 5325, 7022, 4312, 7019, 5882, 6352, 4320, 4524, 2569, 365, 8090, 5228, 6345, 1890, 5661, 4609, 678, 750, 2423, 5524, 3408, 2919, 118, 5837, 2355, 4226, 4168, 2265, 846, 4569, 4073, 928, 2907, 3743, 7522, 2121, 4121, 3644, 2634, 4373, 6427, 7790, 4948, 8016, 1630, 7174, 6071, 1806, 8094, 6944, 3599, 1807, 4412, 2630, 3833, 6461, 2529, 1092, 1946, 5823, 2507, 5589, 2405, 5326, 7021, 3288, 5006, 2215, 7539, 443, 2245, 940, 6950, 2651, 643, 6697, 1455, 7423, 3121, 5022, 6448, 6719, 4347, 4244, 5965, 5069, 5000, 7251, 5945, 5743, 205, 6459, 1828, 6335, 5421, 2209, 2080, 7261, 4151, 6234, 2852, 3019, 2048, 1982, 5429, 1683, 1170, 1572, 4340, 1236, 536, 7644, 2825, 2261, 1919, 2498, 2127, 5074, 7875, 6120, 6245, 3230, 7100, 250, 3458, 6194, 4608, 7029, 960, 464, 7643, 4477, 6662, 2925, 7120, 5639, 7550, 2292, 3329, 1698, 4182, 5161, 1003, 810, 3906, 2125, 181, 7658, 1227, 1353, 120, 216, 6486, 3879, 2969, 1530, 3344, 2539, 3446, 2332, 3466, 7898, 4751, 2015, 7409, 6403, 7103, 3100, 7559, 4397, 3001, 8077, 1305, 913, 3959, 6033, 2795, 642, 7753, 4219, 4842, 208, 1610, 3429, 7460, 7741, 6323, 2976, 8080, 1023, 4553, 2961, 2625, 2505, 5800, 4334, 1621, 5620, 7640, 8116, 2719, 3559, 2119, 8027, 1973, 4179, 7211, 1149, 6022, 5420, 8069, 7655, 7579, 7024, 1260, 7301, 4815, 691, 498, 3737, 2232, 2338, 6082, 7149, 3582, 3132, 6850, 2168, 163, 3639, 7635, 6216, 1537, 3324, 4831, 2100, 811, 4869, 6272, 8079, 2018, 232, 3006, 6791, 2765, 5101, 3176, 2862, 5808, 2176, 7418, 7233, 4674, 4628, 3126, 2012, 6814, 6758, 6013, 3045, 4479, 4644, 3052, 7984, 1945, 5164, 1659, 3376, 4796, 3815, 2165, 5387, 2534, 728, 1250, 1010, 2713, 6333, 3054, 6074, 1790, 7279, 6115, 7946, 5261, 5338, 6594, 7480, 3159, 2460, 7349, 1202, 7415, 6178, 2202, 2599, 8096, 5153, 5737, 7, 1069, 4761, 7185, 7661, 523, 7956, 1836, 3349, 343, 6474, 1574, 7950, 6157, 4303, 5362, 4425, 4351, 5966, 1154, 7755, 731, 1136, 2473, 4971, 7779, 470, 7557, 267, 2195, 1401, 1870, 7353, 4794, 5416, 3411, 6284, 8031, 7711, 1655, 632, 2841, 1967, 6444, 6668, 2607, 3627, 7124, 1091, 5415, 1016, 934, 5271, 8036, 6756, 5902, 7096, 2065, 7372, 7731, 5131, 1804, 2839, 2836, 3475, 6039, 2943, 4369, 4730, 3365, 836, 6330, 2731, 7789, 4161, 6442, 545, 3809, 4292, 3549, 1258, 3926, 957, 665, 547, 7868, 7988, 1146, 7585, 7825, 4460, 7895, 6634, 6021, 363, 7533, 7220, 3699, 2813, 5484, 2887, 3632, 7911, 1450, 4251, 1196, 5321, 3921, 2883, 2162, 4190, 3370, 4708, 7097, 6413, 7684, 7316, 7928, 7444, 7525, 7651, 1596, 106, 4763, 2126, 867, 211, 4835, 4768, 5186, 7690, 4573, 998, 8061, 7563, 4781, 3785, 6685, 5764, 6162, 2912, 3023, 1905, 4693, 2888, 5149, 4203, 7345, 2389, 3708, 5156, 6631, 2348, 6898, 6534, 1319, 2159, 1570, 294, 1586, 4148, 1947, 2847]]\n",
            "\n"
          ],
          "name": "stdout"
        }
      ]
    },
    {
      "cell_type": "code",
      "metadata": {
        "id": "yhvQFaptW91S",
        "colab_type": "code",
        "colab": {
          "base_uri": "https://localhost:8080/",
          "height": 55
        },
        "outputId": "2eeac756-5368-4ed2-d3e5-24fb3da325c5"
      },
      "source": [
        "if rank == 0:\n",
        "        \n",
        "  reduct = quick_reduct(df_for_each.columns[1:-1], [df_for_each.columns[-1]], df_for_each, broadcast_list)\n",
        "  #print('The reduct obtained for rank %d is %s' % (rank, reduct))\n",
        "  for i in range(1, size):\n",
        "    other_reduct = comm.recv(source = i)\n",
        "    reduct = reduct.intersection(other_reduct)\n",
        "  print('The reduct after intersection of all the reducts obtained from all processors is %s:' % (reduct))\n",
        "        \n",
        "else:\n",
        "  inter = quick_reduct(df_for_each.columns[1:-1], [df_for_each.columns[-1]], df_for_each, broadcast_list)\n",
        "  #print('The reduct obtained for rank %d is %s' % (rank, inter))\n",
        "  comm.send(inter, dest = 0)\n",
        "\n",
        "broadcast_list = comm.bcast(reduct, root = 0)\n"
      ],
      "execution_count": 21,
      "outputs": [
        {
          "output_type": "stream",
          "text": [
            "The reduct after intersection of all the reducts obtained from all processors is {'spore-print-color', 'stalk-surface-above-ring', 'odor', 'gill-size', 'stalk-color-below-ring'}:\n"
          ],
          "name": "stdout"
        }
      ]
    },
    {
      "cell_type": "code",
      "metadata": {
        "id": "dBPcePBxXhPJ",
        "colab_type": "code",
        "colab": {
          "base_uri": "https://localhost:8080/",
          "height": 73
        },
        "outputId": "9109b43e-3d14-42b2-e817-b7718867ac77"
      },
      "source": [
        "if rank == 0:\n",
        "        \n",
        "  reduct = quick_reduct(df_for_each.columns[1:-1], [df_for_each.columns[-1]], df_for_each, broadcast_list)\n",
        "  print('The reduct obtained for rank %d is %s' % (rank, reduct))\n",
        "  for i in range(1, size):\n",
        "    other_reduct = comm.recv(source = i)\n",
        "    reduct = reduct.union(other_reduct)\n",
        "  print('The reduct after fusion of all the reducts obtained from all processors is %s:' % (reduct))\n",
        "        \n",
        "else:\n",
        "  inter = quick_reduct(df_for_each.columns[1:-1], [df_for_each.columns[-1]], df_for_each, broadcast_list)\n",
        "  print('The reduct obtained for rank %d is %s' % (rank, inter))\n",
        "  comm.send(inter, dest = 0)\n"
      ],
      "execution_count": 22,
      "outputs": [
        {
          "output_type": "stream",
          "text": [
            "The reduct obtained for rank 0 is {'spore-print-color', 'stalk-surface-above-ring', 'odor', 'gill-size', 'stalk-color-below-ring'}\n",
            "The reduct after fusion of all the reducts obtained from all processors is {'spore-print-color', 'stalk-surface-above-ring', 'odor', 'gill-size', 'stalk-color-below-ring'}:\n"
          ],
          "name": "stdout"
        }
      ]
    },
    {
      "cell_type": "code",
      "metadata": {
        "id": "VrYDdAURRNTL",
        "colab_type": "code",
        "colab": {
          "base_uri": "https://localhost:8080/",
          "height": 1000
        },
        "outputId": "c3acd4eb-9a2e-42e3-d2bd-d046630e5cc1"
      },
      "source": [
        "!mpirun --allow-run-as-root -np 4 python3 mpi_multi_granulation.py "
      ],
      "execution_count": 3,
      "outputs": [
        {
          "output_type": "stream",
          "text": [
            "Traceback (most recent call last):\n",
            "  File \"mpi_multi_granulation.py\", line 155, in <module>\n",
            "    a = pd.read_csv('agaricus-lepiota.data')\n",
            "  File \"/usr/local/lib/python3.6/dist-packages/pandas/io/parsers.py\", line 676, in parser_f\n",
            "    return _read(filepath_or_buffer, kwds)\n",
            "  File \"/usr/local/lib/python3.6/dist-packages/pandas/io/parsers.py\", line 448, in _read\n",
            "    parser = TextFileReader(fp_or_buf, **kwds)\n",
            "  File \"/usr/local/lib/python3.6/dist-packages/pandas/io/parsers.py\", line 880, in __init__\n",
            "    self._make_engine(self.engine)\n",
            "  File \"/usr/local/lib/python3.6/dist-packages/pandas/io/parsers.py\", line 1114, in _make_engine\n",
            "    self._engine = CParserWrapper(self.f, **self.options)\n",
            "  File \"/usr/local/lib/python3.6/dist-packages/pandas/io/parsers.py\", line 1891, in __init__\n",
            "    self._reader = parsers.TextReader(src, **kwds)\n",
            "  File \"pandas/_libs/parsers.pyx\", line 374, in pandas._libs.parsers.TextReader.__cinit__\n",
            "  File \"pandas/_libs/parsers.pyx\", line 674, in pandas._libs.parsers.TextReader._setup_parser_source\n",
            "FileNotFoundError: [Errno 2] File agaricus-lepiota.data does not exist: 'agaricus-lepiota.data'\n",
            "Traceback (most recent call last):\n",
            "  File \"mpi_multi_granulation.py\", line 155, in <module>\n",
            "    a = pd.read_csv('agaricus-lepiota.data')\n",
            "  File \"/usr/local/lib/python3.6/dist-packages/pandas/io/parsers.py\", line 676, in parser_f\n",
            "    return _read(filepath_or_buffer, kwds)\n",
            "  File \"/usr/local/lib/python3.6/dist-packages/pandas/io/parsers.py\", line 448, in _read\n",
            "    parser = TextFileReader(fp_or_buf, **kwds)\n",
            "  File \"/usr/local/lib/python3.6/dist-packages/pandas/io/parsers.py\", line 880, in __init__\n",
            "    self._make_engine(self.engine)\n",
            "  File \"/usr/local/lib/python3.6/dist-packages/pandas/io/parsers.py\", line 1114, in _make_engine\n",
            "    self._engine = CParserWrapper(self.f, **self.options)\n",
            "  File \"/usr/local/lib/python3.6/dist-packages/pandas/io/parsers.py\", line 1891, in __init__\n",
            "    self._reader = parsers.TextReader(src, **kwds)\n",
            "  File \"pandas/_libs/parsers.pyx\", line 374, in pandas._libs.parsers.TextReader.__cinit__\n",
            "  File \"pandas/_libs/parsers.pyx\", line 674, in pandas._libs.parsers.TextReader._setup_parser_source\n",
            "FileNotFoundError: [Errno 2] File agaricus-lepiota.data does not exist: 'agaricus-lepiota.data'\n",
            "Traceback (most recent call last):\n",
            "  File \"mpi_multi_granulation.py\", line 155, in <module>\n",
            "    a = pd.read_csv('agaricus-lepiota.data')\n",
            "  File \"/usr/local/lib/python3.6/dist-packages/pandas/io/parsers.py\", line 676, in parser_f\n",
            "    return _read(filepath_or_buffer, kwds)\n",
            "  File \"/usr/local/lib/python3.6/dist-packages/pandas/io/parsers.py\", line 448, in _read\n",
            "    parser = TextFileReader(fp_or_buf, **kwds)\n",
            "  File \"/usr/local/lib/python3.6/dist-packages/pandas/io/parsers.py\", line 880, in __init__\n",
            "    self._make_engine(self.engine)\n",
            "  File \"/usr/local/lib/python3.6/dist-packages/pandas/io/parsers.py\", line 1114, in _make_engine\n",
            "    self._engine = CParserWrapper(self.f, **self.options)\n",
            "  File \"/usr/local/lib/python3.6/dist-packages/pandas/io/parsers.py\", line 1891, in __init__\n",
            "    self._reader = parsers.TextReader(src, **kwds)\n",
            "  File \"pandas/_libs/parsers.pyx\", line 374, in pandas._libs.parsers.TextReader.__cinit__\n",
            "  File \"pandas/_libs/parsers.pyx\", line 674, in pandas._libs.parsers.TextReader._setup_parser_source\n",
            "FileNotFoundError: [Errno 2] File agaricus-lepiota.data does not exist: 'agaricus-lepiota.data'\n",
            "Traceback (most recent call last):\n",
            "  File \"mpi_multi_granulation.py\", line 155, in <module>\n",
            "    a = pd.read_csv('agaricus-lepiota.data')\n",
            "  File \"/usr/local/lib/python3.6/dist-packages/pandas/io/parsers.py\", line 676, in parser_f\n",
            "    return _read(filepath_or_buffer, kwds)\n",
            "  File \"/usr/local/lib/python3.6/dist-packages/pandas/io/parsers.py\", line 448, in _read\n",
            "    parser = TextFileReader(fp_or_buf, **kwds)\n",
            "  File \"/usr/local/lib/python3.6/dist-packages/pandas/io/parsers.py\", line 880, in __init__\n",
            "    self._make_engine(self.engine)\n",
            "  File \"/usr/local/lib/python3.6/dist-packages/pandas/io/parsers.py\", line 1114, in _make_engine\n",
            "    self._engine = CParserWrapper(self.f, **self.options)\n",
            "  File \"/usr/local/lib/python3.6/dist-packages/pandas/io/parsers.py\", line 1891, in __init__\n",
            "    self._reader = parsers.TextReader(src, **kwds)\n",
            "  File \"pandas/_libs/parsers.pyx\", line 374, in pandas._libs.parsers.TextReader.__cinit__\n",
            "  File \"pandas/_libs/parsers.pyx\", line 674, in pandas._libs.parsers.TextReader._setup_parser_source\n",
            "FileNotFoundError: [Errno 2] File agaricus-lepiota.data does not exist: 'agaricus-lepiota.data'\n",
            "-------------------------------------------------------\n",
            "Primary job  terminated normally, but 1 process returned\n",
            "a non-zero exit code.. Per user-direction, the job has been aborted.\n",
            "-------------------------------------------------------\n",
            "--------------------------------------------------------------------------\n",
            "mpirun detected that one or more processes exited with non-zero status, thus causing\n",
            "the job to be terminated. The first process to do so was:\n",
            "\n",
            "  Process name: [[26725,1],3]\n",
            "  Exit code:    1\n",
            "--------------------------------------------------------------------------\n"
          ],
          "name": "stdout"
        }
      ]
    }
  ]
}